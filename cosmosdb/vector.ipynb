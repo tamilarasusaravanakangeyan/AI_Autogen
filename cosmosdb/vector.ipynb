{
 "cells": [
  {
   "cell_type": "code",
   "execution_count": 1,
   "id": "dfe714b5",
   "metadata": {},
   "outputs": [
    {
     "name": "stdout",
     "output_type": "stream",
     "text": [
      "Collecting azure-cosmos\n",
      "  Downloading azure_cosmos-4.9.0-py3-none-any.whl.metadata (80 kB)\n",
      "Requirement already satisfied: azure-core>=1.30.0 in /Users/tamilarasusaravanakangeyan/Desktop/projects/git_repo/tamilsmtp/AI_Autogen/.venv/lib/python3.13/site-packages (from azure-cosmos) (1.35.0)\n",
      "Requirement already satisfied: typing-extensions>=4.6.0 in /Users/tamilarasusaravanakangeyan/Desktop/projects/git_repo/tamilsmtp/AI_Autogen/.venv/lib/python3.13/site-packages (from azure-cosmos) (4.15.0)\n",
      "Requirement already satisfied: requests>=2.21.0 in /Users/tamilarasusaravanakangeyan/Desktop/projects/git_repo/tamilsmtp/AI_Autogen/.venv/lib/python3.13/site-packages (from azure-core>=1.30.0->azure-cosmos) (2.32.5)\n",
      "Requirement already satisfied: six>=1.11.0 in /Users/tamilarasusaravanakangeyan/Desktop/projects/git_repo/tamilsmtp/AI_Autogen/.venv/lib/python3.13/site-packages (from azure-core>=1.30.0->azure-cosmos) (1.17.0)\n",
      "Requirement already satisfied: charset_normalizer<4,>=2 in /Users/tamilarasusaravanakangeyan/Desktop/projects/git_repo/tamilsmtp/AI_Autogen/.venv/lib/python3.13/site-packages (from requests>=2.21.0->azure-core>=1.30.0->azure-cosmos) (3.4.3)\n",
      "Requirement already satisfied: idna<4,>=2.5 in /Users/tamilarasusaravanakangeyan/Desktop/projects/git_repo/tamilsmtp/AI_Autogen/.venv/lib/python3.13/site-packages (from requests>=2.21.0->azure-core>=1.30.0->azure-cosmos) (3.10)\n",
      "Requirement already satisfied: urllib3<3,>=1.21.1 in /Users/tamilarasusaravanakangeyan/Desktop/projects/git_repo/tamilsmtp/AI_Autogen/.venv/lib/python3.13/site-packages (from requests>=2.21.0->azure-core>=1.30.0->azure-cosmos) (2.5.0)\n",
      "Requirement already satisfied: certifi>=2017.4.17 in /Users/tamilarasusaravanakangeyan/Desktop/projects/git_repo/tamilsmtp/AI_Autogen/.venv/lib/python3.13/site-packages (from requests>=2.21.0->azure-core>=1.30.0->azure-cosmos) (2025.8.3)\n",
      "Downloading azure_cosmos-4.9.0-py3-none-any.whl (303 kB)\n",
      "Installing collected packages: azure-cosmos\n",
      "Successfully installed azure-cosmos-4.9.0\n",
      "Note: you may need to restart the kernel to use updated packages.\n"
     ]
    }
   ],
   "source": [
    "pip install azure-cosmos"
   ]
  },
  {
   "cell_type": "code",
   "execution_count": 10,
   "id": "a1b9fc65",
   "metadata": {},
   "outputs": [],
   "source": [
    "import dotenv\n",
    "\n",
    "dotenv.load_dotenv()\n",
    "import os\n",
    "\n",
    "url = os.getenv(\"COSMOS_DB_URL\")\n",
    "key = os.getenv(\"COSMOS_DB_KEY\")\n"
   ]
  },
  {
   "cell_type": "code",
   "execution_count": null,
   "id": "ff00cf20",
   "metadata": {},
   "outputs": [],
   "source": [
    "from azure.cosmos import CosmosClient\n",
    "\n",
    "# Replace with your account URL and key\n",
    "url = url\n",
    "key = key\n",
    "\n",
    "client = CosmosClient(url, credential=key)\n",
    "\n",
    "# Get the database and container clients\n",
    "database = client.get_database_client(\"aidb\")\n",
    "container = database.get_container_client(\"ai_rag_cnt\")"
   ]
  },
  {
   "cell_type": "markdown",
   "id": "c74846e1",
   "metadata": {},
   "source": [
    "### Explanation:\n",
    "- path → field holding your vector.\n",
    "- type → algorithm for similarity search (quantizedFlat recommended).\n",
    "- dataType → usually float32 for embeddings.\n",
    "- dimensions → embedding size (e.g., OpenAI text-embedding-ada-002 = 1536)."
   ]
  },
  {
   "cell_type": "code",
   "execution_count": 3,
   "id": "add9d2a0",
   "metadata": {},
   "outputs": [],
   "source": [
    "document = {\n",
    "    \"id\": \"doc1\",  # unique id\n",
    "    \"content\": \"Azure Cosmos DB vector search example\",\n",
    "    \"embedding\": [\n",
    "        0.12, 0.98, 0.34, 0.56, 0.78, 0.11, 0.45, 0.66\n",
    "        # … full vector length matching your model, e.g., 1536\n",
    "    ]\n",
    "}"
   ]
  },
  {
   "cell_type": "code",
   "execution_count": 4,
   "id": "5120f6e1",
   "metadata": {},
   "outputs": [
    {
     "name": "stdout",
     "output_type": "stream",
     "text": [
      "Document inserted successfully!\n"
     ]
    }
   ],
   "source": [
    "container.create_item(document)\n",
    "print(\"Document inserted successfully!\")"
   ]
  },
  {
   "cell_type": "code",
   "execution_count": 5,
   "id": "a92fe17f",
   "metadata": {},
   "outputs": [
    {
     "name": "stdout",
     "output_type": "stream",
     "text": [
      "{'id': 'doc1', 'content': 'Azure Cosmos DB vector search example', 'embedding': [0.12, 0.98, 0.34, 0.56, 0.78, 0.11, 0.45, 0.66], '_rid': 'deVRANDLpNoBAAAAAAAAAA==', '_self': 'dbs/deVRAA==/colls/deVRANDLpNo=/docs/deVRANDLpNoBAAAAAAAAAA==/', '_etag': '\"77017eba-0000-0700-0000-68c56ab80000\"', '_attachments': 'attachments/', '_ts': 1757768376}\n"
     ]
    }
   ],
   "source": [
    "for item in container.read_all_items():\n",
    "    print(item)"
   ]
  },
  {
   "cell_type": "code",
   "execution_count": null,
   "id": "3c294046",
   "metadata": {},
   "outputs": [
    {
     "name": "stdout",
     "output_type": "stream",
     "text": [
      "Document may already exist: (Conflict) Entity with the specified id already exists in the system., \n",
      "RequestStartTime: 2025-09-13T13:18:26.3991245Z, RequestEndTime: 2025-09-13T13:18:26.4012793Z,  Number of regions attempted:1\n",
      "{\"systemHistory\":[{\"dateUtc\":\"2025-09-13T13:17:30.2944270Z\",\"cpu\":0.474,\"memory\":435614216.000,\"threadInfo\":{\"isThreadStarving\":\"False\",\"threadWaitIntervalInMs\":0.1578,\"availableThreads\":32765,\"minThreads\":104,\"maxThreads\":32767},\"numberOfOpenTcpConnection\":537},{\"dateUtc\":\"2025-09-13T13:17:40.3046828Z\",\"cpu\":0.759,\"memory\":435593816.000,\"threadInfo\":{\"isThreadStarving\":\"False\",\"threadWaitIntervalInMs\":0.0656,\"availableThreads\":32765,\"minThreads\":104,\"maxThreads\":32767},\"numberOfOpenTcpConnection\":537},{\"dateUtc\":\"2025-09-13T13:17:50.3147570Z\",\"cpu\":1.171,\"memory\":435594788.000,\"threadInfo\":{\"isThreadStarving\":\"False\",\"threadWaitIntervalInMs\":0.092,\"availableThreads\":32763,\"minThreads\":104,\"maxThreads\":32767},\"numberOfOpenTcpConnection\":534},{\"dateUtc\":\"2025-09-13T13:18:00.3248637Z\",\"cpu\":0.858,\"memory\":435592872.000,\"threadInfo\":{\"isThreadStarving\":\"False\",\"threadWaitIntervalInMs\":0.1972,\"availableThreads\":32764,\"minThreads\":104,\"maxThreads\":32767},\"numberOfOpenTcpConnection\":534},{\"dateUtc\":\"2025-09-13T13:18:10.3350646Z\",\"cpu\":0.720,\"memory\":435578972.000,\"threadInfo\":{\"isThreadStarving\":\"False\",\"threadWaitIntervalInMs\":0.0318,\"availableThreads\":32765,\"minThreads\":104,\"maxThreads\":32767},\"numberOfOpenTcpConnection\":534},{\"dateUtc\":\"2025-09-13T13:18:20.3450798Z\",\"cpu\":0.844,\"memory\":435593068.000,\"threadInfo\":{\"isThreadStarving\":\"False\",\"threadWaitIntervalInMs\":0.0636,\"availableThreads\":32765,\"minThreads\":104,\"maxThreads\":32767},\"numberOfOpenTcpConnection\":529}]}\n",
      "RequestStart: 2025-09-13T13:18:26.3992136Z; ResponseTime: 2025-09-13T13:18:26.4012793Z; StoreResult: StorePhysicalAddress: rntbd://cdb-ms-prod-westus1-be140.documents.azure.com:14119/apps/6f38703d-48ea-4601-8e62-923ddca2216a/services/7d9450b1-50cb-4e33-88e7-34055ed893a7/partitions/fd91d81d-9aef-456a-b64c-652d8c129459/replicas/134022351015406062p/, LSN: 2, GlobalCommittedLsn: 2, PartitionKeyRangeId: 0, IsValid: True, StatusCode: 409, SubStatusCode: 0, RequestCharge: 2, ItemLSN: -1, SessionToken: -1#2, UsingLocalLSN: False, TransportException: null, BELatencyMs: 1.038, ActivityId: 42ddf12d-986d-4745-a29b-cf649f987626, RetryAfterInMs: , ReplicaHealthStatuses: [(port: 14119 | status: Connected | lkt: 9/13/2025 12:59:36 PM)], TransportRequestTimeline: {\"requestTimeline\":[{\"event\": \"Created\", \"startTimeUtc\": \"2025-09-13T13:18:26.3992146Z\", \"durationInMs\": 0.0245},{\"event\": \"ChannelAcquisitionStarted\", \"startTimeUtc\": \"2025-09-13T13:18:26.3992391Z\", \"durationInMs\": 0.012},{\"event\": \"Pipelined\", \"startTimeUtc\": \"2025-09-13T13:18:26.3992511Z\", \"durationInMs\": 0.0821},{\"event\": \"Transit Time\", \"startTimeUtc\": \"2025-09-13T13:18:26.3993332Z\", \"durationInMs\": 1.7852},{\"event\": \"Received\", \"startTimeUtc\": \"2025-09-13T13:18:26.4011184Z\", \"durationInMs\": 0.1053},{\"event\": \"Completed\", \"startTimeUtc\": \"2025-09-13T13:18:26.4012237Z\", \"durationInMs\": 0}],\"serviceEndpointStats\":{\"inflightRequests\":1,\"openConnections\":1},\"connectionStats\":{\"waitforConnectionInit\":\"False\",\"callsPendingReceive\":0,\"lastSendAttempt\":\"2025-09-13T12:59:45.5238194Z\",\"lastSend\":\"2025-09-13T12:59:45.5238599Z\",\"lastReceive\":\"2025-09-13T12:59:45.5462927Z\"},\"requestSizeInBytes\":694,\"requestBodySizeInBytes\":121,\"responseMetadataSizeInBytes\":182,\"responseBodySizeInBytes\":65};\n",
      " ResourceType: Document, OperationType: Create\n",
      ", Microsoft.Azure.Documents.Common/2.14.0\n",
      "Code: Conflict\n",
      "Message: Entity with the specified id already exists in the system., \n",
      "RequestStartTime: 2025-09-13T13:18:26.3991245Z, RequestEndTime: 2025-09-13T13:18:26.4012793Z,  Number of regions attempted:1\n",
      "{\"systemHistory\":[{\"dateUtc\":\"2025-09-13T13:17:30.2944270Z\",\"cpu\":0.474,\"memory\":435614216.000,\"threadInfo\":{\"isThreadStarving\":\"False\",\"threadWaitIntervalInMs\":0.1578,\"availableThreads\":32765,\"minThreads\":104,\"maxThreads\":32767},\"numberOfOpenTcpConnection\":537},{\"dateUtc\":\"2025-09-13T13:17:40.3046828Z\",\"cpu\":0.759,\"memory\":435593816.000,\"threadInfo\":{\"isThreadStarving\":\"False\",\"threadWaitIntervalInMs\":0.0656,\"availableThreads\":32765,\"minThreads\":104,\"maxThreads\":32767},\"numberOfOpenTcpConnection\":537},{\"dateUtc\":\"2025-09-13T13:17:50.3147570Z\",\"cpu\":1.171,\"memory\":435594788.000,\"threadInfo\":{\"isThreadStarving\":\"False\",\"threadWaitIntervalInMs\":0.092,\"availableThreads\":32763,\"minThreads\":104,\"maxThreads\":32767},\"numberOfOpenTcpConnection\":534},{\"dateUtc\":\"2025-09-13T13:18:00.3248637Z\",\"cpu\":0.858,\"memory\":435592872.000,\"threadInfo\":{\"isThreadStarving\":\"False\",\"threadWaitIntervalInMs\":0.1972,\"availableThreads\":32764,\"minThreads\":104,\"maxThreads\":32767},\"numberOfOpenTcpConnection\":534},{\"dateUtc\":\"2025-09-13T13:18:10.3350646Z\",\"cpu\":0.720,\"memory\":435578972.000,\"threadInfo\":{\"isThreadStarving\":\"False\",\"threadWaitIntervalInMs\":0.0318,\"availableThreads\":32765,\"minThreads\":104,\"maxThreads\":32767},\"numberOfOpenTcpConnection\":534},{\"dateUtc\":\"2025-09-13T13:18:20.3450798Z\",\"cpu\":0.844,\"memory\":435593068.000,\"threadInfo\":{\"isThreadStarving\":\"False\",\"threadWaitIntervalInMs\":0.0636,\"availableThreads\":32765,\"minThreads\":104,\"maxThreads\":32767},\"numberOfOpenTcpConnection\":529}]}\n",
      "RequestStart: 2025-09-13T13:18:26.3992136Z; ResponseTime: 2025-09-13T13:18:26.4012793Z; StoreResult: StorePhysicalAddress: rntbd://cdb-ms-prod-westus1-be140.documents.azure.com:14119/apps/6f38703d-48ea-4601-8e62-923ddca2216a/services/7d9450b1-50cb-4e33-88e7-34055ed893a7/partitions/fd91d81d-9aef-456a-b64c-652d8c129459/replicas/134022351015406062p/, LSN: 2, GlobalCommittedLsn: 2, PartitionKeyRangeId: 0, IsValid: True, StatusCode: 409, SubStatusCode: 0, RequestCharge: 2, ItemLSN: -1, SessionToken: -1#2, UsingLocalLSN: False, TransportException: null, BELatencyMs: 1.038, ActivityId: 42ddf12d-986d-4745-a29b-cf649f987626, RetryAfterInMs: , ReplicaHealthStatuses: [(port: 14119 | status: Connected | lkt: 9/13/2025 12:59:36 PM)], TransportRequestTimeline: {\"requestTimeline\":[{\"event\": \"Created\", \"startTimeUtc\": \"2025-09-13T13:18:26.3992146Z\", \"durationInMs\": 0.0245},{\"event\": \"ChannelAcquisitionStarted\", \"startTimeUtc\": \"2025-09-13T13:18:26.3992391Z\", \"durationInMs\": 0.012},{\"event\": \"Pipelined\", \"startTimeUtc\": \"2025-09-13T13:18:26.3992511Z\", \"durationInMs\": 0.0821},{\"event\": \"Transit Time\", \"startTimeUtc\": \"2025-09-13T13:18:26.3993332Z\", \"durationInMs\": 1.7852},{\"event\": \"Received\", \"startTimeUtc\": \"2025-09-13T13:18:26.4011184Z\", \"durationInMs\": 0.1053},{\"event\": \"Completed\", \"startTimeUtc\": \"2025-09-13T13:18:26.4012237Z\", \"durationInMs\": 0}],\"serviceEndpointStats\":{\"inflightRequests\":1,\"openConnections\":1},\"connectionStats\":{\"waitforConnectionInit\":\"False\",\"callsPendingReceive\":0,\"lastSendAttempt\":\"2025-09-13T12:59:45.5238194Z\",\"lastSend\":\"2025-09-13T12:59:45.5238599Z\",\"lastReceive\":\"2025-09-13T12:59:45.5462927Z\"},\"requestSizeInBytes\":694,\"requestBodySizeInBytes\":121,\"responseMetadataSizeInBytes\":182,\"responseBodySizeInBytes\":65};\n",
      " ResourceType: Document, OperationType: Create\n",
      ", Microsoft.Azure.Documents.Common/2.14.0\n",
      "Query failed. Make sure vector search is enabled: (BadRequest) Message: {\"errors\":[{\"severity\":\"Error\",\"location\":{\"start\":40,\"end\":55},\"code\":\"SC2005\",\"message\":\"'VECTOR_DISTANCE' is not a recognized built-in function name.\"}]}\n",
      "ActivityId: 379fb320-f82b-4311-999a-0a5026cb72a5, Microsoft.Azure.Documents.Common/2.14.0\n",
      "Code: BadRequest\n",
      "Message: Message: {\"errors\":[{\"severity\":\"Error\",\"location\":{\"start\":40,\"end\":55},\"code\":\"SC2005\",\"message\":\"'VECTOR_DISTANCE' is not a recognized built-in function name.\"}]}\n",
      "ActivityId: 379fb320-f82b-4311-999a-0a5026cb72a5, Microsoft.Azure.Documents.Common/2.14.0\n"
     ]
    }
   ],
   "source": [
    "from azure.cosmos import CosmosClient, PartitionKey\n",
    "\n",
    "# -----------------------------\n",
    "# 1️⃣ Setup Cosmos DB client\n",
    "# -----------------------------\n",
    "url = url\n",
    "key = key\n",
    "database_name = \"aidb\"\n",
    "container_name = \"ai_rag_cnt\"\n",
    "\n",
    "client = CosmosClient(url, credential=key)\n",
    "database = client.get_database_client(database_name)\n",
    "container = database.get_container_client(container_name)\n",
    "\n",
    "# -----------------------------\n",
    "# 2️⃣ Insert sample document\n",
    "# -----------------------------\n",
    "doc = {\n",
    "    \"id\": \"doc1\",\n",
    "    \"content\": \"Azure Cosmos DB vector search example\",\n",
    "    \"embedding\": [\n",
    "        0.12, 0.98, 0.34, 0.56, 0.78, 0.11, 0.45, 0.66\n",
    "        # ... your full vector, e.g., 1536-dim for OpenAI embeddings\n",
    "    ]\n",
    "}\n",
    "\n",
    "# Insert the document (ignore if already exists)\n",
    "try:\n",
    "    container.create_item(doc)\n",
    "    print(\"Document inserted successfully!\")\n",
    "except Exception as e:\n",
    "    print(\"Document may already exist:\", e)\n",
    "\n",
    "# -----------------------------\n",
    "# 3️⃣ Define query embedding\n",
    "# -----------------------------\n",
    "query_embedding = [\n",
    "    0.11, 0.97, 0.33, 0.55, 0.77, 0.12, 0.44, 0.65\n",
    "    # ... must match dimension of vector index\n",
    "]\n",
    "\n",
    "# -----------------------------\n",
    "# 4️⃣ Query top-5 similar vectors\n",
    "# -----------------------------\n",
    "query = \"\"\"\n",
    "SELECT c.id, c.content\n",
    "FROM c\n",
    "ORDER BY VECTOR_DISTANCE(c.embedding, @vec) ASC\n",
    "OFFSET 0 LIMIT 5\n",
    "\"\"\"\n",
    "\n",
    "parameters = [{\"name\": \"@vec\", \"value\": query_embedding}]\n",
    "\n",
    "try:\n",
    "    results = list(container.query_items(\n",
    "        query=query,\n",
    "        parameters=parameters,\n",
    "        enable_cross_partition_query=True\n",
    "    ))\n",
    "\n",
    "    print(\"Top-5 similar documents:\")\n",
    "    for item in results:\n",
    "        print(item)\n",
    "\n",
    "except Exception as e:\n",
    "    print(\"Query failed. Make sure vector search is enabled:\", e)"
   ]
  }
 ],
 "metadata": {
  "kernelspec": {
   "display_name": ".venv",
   "language": "python",
   "name": "python3"
  },
  "language_info": {
   "codemirror_mode": {
    "name": "ipython",
    "version": 3
   },
   "file_extension": ".py",
   "mimetype": "text/x-python",
   "name": "python",
   "nbconvert_exporter": "python",
   "pygments_lexer": "ipython3",
   "version": "3.13.3"
  }
 },
 "nbformat": 4,
 "nbformat_minor": 5
}

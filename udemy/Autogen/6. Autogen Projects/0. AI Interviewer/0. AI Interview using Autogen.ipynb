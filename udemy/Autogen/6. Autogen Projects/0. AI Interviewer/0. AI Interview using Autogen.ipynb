{
 "cells": [
  {
   "cell_type": "markdown",
   "metadata": {},
   "source": [
    "# AI Interviewer\n",
    "\n",
    "## A project to showcase how to move from single python script to a small modular application"
   ]
  },
  {
   "cell_type": "markdown",
   "metadata": {},
   "source": [
    "# Project Documentation: From Single File to Modular Structure\n",
    "\n",
    "## 1. Introduction\n",
    "\n",
    "### This project is a **very basic demonstration** of how to start with a single Python file and incrementally modularize your code into a more maintainable project structure. The goal is to help beginners and students understand the **software development cycle**---especially how to move from a simple script to a well-organized project.\n",
    "\n",
    "### If you are new to software projects, start by watching the **first video**, where we build a simple AI Interviewer using [Autogen](https://github.com/microsoft/autogen). Then, proceed to the **second video**, which explains the project structure in detail."
   ]
  },
  {
   "cell_type": "markdown",
   "metadata": {},
   "source": [
    "---\n",
    "\n",
    "## 2. Why Modularize Code?\n",
    "\n",
    "- **Readability:** Easier to understand and maintain.\n",
    "\n",
    "- **Reusability:** Functions and classes can be reused in other projects.\n",
    "\n",
    "- **Collaboration:** Multiple people can work on different modules.\n",
    "\n",
    "- **Testing:** Easier to write unit tests for small, focused modules."
   ]
  },
  {
   "cell_type": "markdown",
   "metadata": {},
   "source": [
    "---\n",
    "\n",
    "## 3. Typical Project Structure\n",
    "\n",
    "Suppose your folder looks like this:\n",
    "\n",
    "```\n",
    "AI-Interviewer/\n",
    "│\n",
    "├── main.py\n",
    "├── interviewer.py\n",
    "├── utils.py\n",
    "└── README.md\n",
    "```\n",
    "\n",
    "- `main.py`: The entry point of your application.\n",
    "- `interviewer.py`: Contains the core logic for the AI interviewer.\n",
    "- `utils.py`: Helper functions used across the project.\n",
    "- `README.md`: Project documentation."
   ]
  },
  {
   "cell_type": "markdown",
   "metadata": {},
   "source": [
    "---\n",
    "\n",
    "## 4. Step-by-Step Modularization\n",
    "\n",
    "### **Step 1: Start with a Single File**\n",
    "\n",
    "Initially, all your code might be in `main.py`:\n",
    "\n",
    "```python\n",
    "# main.py\n",
    "def ask_question(question):\n",
    "    print(question)\n",
    "    answer = input(\"Your answer: \")\n",
    "    return answer\n",
    "\n",
    "def main():\n",
    "    q = \"Tell me about yourself.\"\n",
    "    response = ask_question(q)\n",
    "    print(\"You answered:\", response)\n",
    "\n",
    "if __name__ == \"__main__\":\n",
    "    main()\n",
    "```"
   ]
  },
  {
   "cell_type": "markdown",
   "metadata": {},
   "source": [
    "---\n",
    "\n",
    "### **Step 2: Split Code into Modules**\n",
    "\n",
    "Move the `ask_question` function to a new file called `interviewer.py`:\n",
    "\n",
    "```python\n",
    "# interviewer.py\n",
    "def ask_question(question):\n",
    "    print(question)\n",
    "    answer = input(\"Your answer: \")\n",
    "    return answer\n",
    "```\n",
    "\n",
    "Update `main.py` to import from `interviewer.py`:\n",
    "\n",
    "```python\n",
    "# main.py\n",
    "from interviewer import ask_question\n",
    "\n",
    "def main():\n",
    "    q = \"Tell me about yourself.\"\n",
    "    response = ask_question(q)\n",
    "    print(\"You answered:\", response)\n",
    "\n",
    "if __name__ == \"__main__\":\n",
    "    main()\n",
    "```"
   ]
  },
  {
   "cell_type": "markdown",
   "metadata": {},
   "source": [
    "---\n",
    "\n",
    "### **Step 3: Add Utility Functions**\n",
    "\n",
    "If you have helper functions, put them in `utils.py`:\n",
    "\n",
    "```python\n",
    "# utils.py\n",
    "def format_question(question):\n",
    "    return f\"AI asks: {question}\"\n",
    "```\n",
    "\n",
    "And use them in your main code:\n",
    "\n",
    "```python\n",
    "# main.py\n",
    "from interviewer import ask_question\n",
    "from utils import format_question\n",
    "\n",
    "def main():\n",
    "    q = format_question(\"Tell me about yourself.\")\n",
    "    response = ask_question(q)\n",
    "    print(\"You answered:\", response)\n",
    "\n",
    "if __name__ == \"__main__\":\n",
    "    main()\n",
    "```"
   ]
  },
  {
   "cell_type": "markdown",
   "metadata": {},
   "source": [
    "---\n",
    "\n",
    "## 5. Best Practices\n",
    "\n",
    "- **Keep each file focused** on a single responsibility.\n",
    "- **Use imports** to reuse code across files.\n",
    "- **Document your code** and folder structure.\n",
    "- **Incrementally modularize**: Don't try to split everything at once."
   ]
  },
  {
   "cell_type": "markdown",
   "metadata": {},
   "source": [
    "---\n",
    "\n",
    "## 6. Conclusion\n",
    "\n",
    "This incremental approach helps beginners understand how to move from a single script to a modular project. By following these steps, you'll make your codebase more organized, maintainable, and ready for collaboration or scaling up."
   ]
  },
  {
   "cell_type": "markdown",
   "metadata": {},
   "source": [
    "---\n",
    "\n",
    "## 7. Next Steps\n",
    "\n",
    "- Try running the code after each change to ensure everything works.\n",
    "- Explore more advanced modularization (e.g., packages, classes) as you grow comfortable.\n",
    "- Watch the accompanying videos for a walkthrough after this project where we have discussed project structure in detail."
   ]
  },
  {
   "cell_type": "markdown",
   "metadata": {},
   "source": []
  }
 ],
 "metadata": {
  "kernelspec": {
   "display_name": "Python 3",
   "language": "python",
   "name": "python3"
  },
  "language_info": {
   "codemirror_mode": {
    "name": "ipython",
    "version": 3
   },
   "file_extension": ".py",
   "mimetype": "text/x-python",
   "name": "python",
   "nbconvert_exporter": "python",
   "pygments_lexer": "ipython3",
   "version": "3.8.5"
  }
 },
 "nbformat": 4,
 "nbformat_minor": 4
}

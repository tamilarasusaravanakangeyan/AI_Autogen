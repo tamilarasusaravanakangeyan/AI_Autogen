{
 "cells": [
  {
   "cell_type": "markdown",
   "id": "1f1955a7",
   "metadata": {},
   "source": [
    "# Project Structure\n",
    "\n",
    "How to structure our projects"
   ]
  },
  {
   "cell_type": "markdown",
   "id": "316865f1",
   "metadata": {},
   "source": [
    "1. Agents\n",
    "2. Models\n",
    "3. Teams\n",
    "4. Termination Conditions\n",
    "5. Config\n",
    "6. APIs\n",
    "\n",
    "Without a clear strcuture, our Project can turn into a mess, hard to debug or share.\n",
    "\n",
    "\n",
    "A well strucutred/organized Project can help us:\n",
    "1. Find and Tweak code easily\n",
    "2. Work with others without any confusion\n",
    "3. Setup our application and grow it as we have different requirements"
   ]
  },
  {
   "cell_type": "markdown",
   "id": "e6ebc3d3",
   "metadata": {},
   "source": [
    "# Best Practice for AI Proejects"
   ]
  },
  {
   "cell_type": "markdown",
   "id": "d71aa079",
   "metadata": {},
   "source": [
    "1. Modular Design\n",
    "2. Clear Folders - /clean /config\n",
    "3. Venv\n",
    "4. Version Control - Git\n",
    "5. Documentation \n",
    "6. Testing "
   ]
  },
  {
   "cell_type": "markdown",
   "id": "c4034ea3",
   "metadata": {},
   "source": []
  },
  {
   "cell_type": "code",
   "execution_count": null,
   "id": "6e3ca971",
   "metadata": {},
   "outputs": [],
   "source": [
    "'''\n",
    "travel_planner/\n",
    "├── config/\n",
    "│   └── settings.py\n",
    "├── agents/\n",
    "│   ├── __init__.py\n",
    "│   ├── planner.py\n",
    "│   ├── researcher.py\n",
    "│   └── writer.py\n",
    "├── teams/\n",
    "│   ├── __init__.py\n",
    "│   └── travel_team.py\n",
    "├── utils/\n",
    "│   ├── __init__.py\n",
    "│   ├── state.py\n",
    "│   └── logging.py\n",
    "├── tests/\n",
    "│   ├── __init__.py\n",
    "│   └── test_agents.py\n",
    "├── main.py\n",
    "├── requirements.txt\n",
    "├── .gitignore\n",
    "└── README.md\n",
    "'''"
   ]
  },
  {
   "cell_type": "markdown",
   "id": "b04aab6d",
   "metadata": {},
   "source": []
  }
 ],
 "metadata": {
  "language_info": {
   "name": "python"
  }
 },
 "nbformat": 4,
 "nbformat_minor": 5
}

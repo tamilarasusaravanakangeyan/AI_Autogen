{
 "cells": [
  {
   "cell_type": "markdown",
   "id": "8f3970b8",
   "metadata": {},
   "source": [
    "# Autogen Studio\n",
    "\n",
    "An awesome, web-based tool that lets you create AI agents visually—no coding required. It’s built on Microsoft’s AutoGen framework, which is all about making smart agents that can chat, solve problems, or even help with tasks\n"
   ]
  },
  {
   "cell_type": "markdown",
   "id": "18dc6cc9",
   "metadata": {},
   "source": []
  },
  {
   "cell_type": "markdown",
   "id": "50ea8c8b",
   "metadata": {},
   "source": [
    "# Installation"
   ]
  },
  {
   "cell_type": "markdown",
   "id": "ecbf7dd0",
   "metadata": {},
   "source": [
    "1. Create an environment ( conda venv uv)\n",
    "2. Activate the environment\n",
    "3. Export your OPENAI_API_KEY"
   ]
  },
  {
   "cell_type": "markdown",
   "id": "d4e57e66",
   "metadata": {},
   "source": [
    "[LM STUDIO SERVER] Running chat completion on conversation with 2 messages.\n",
    "2025-05-16 01:25:59 [DEBUG] \n",
    "1 Error predicting: Error: Error rendering prompt with jinja template: \"Error: Only user and assistant roles are supported!"
   ]
  },
  {
   "cell_type": "code",
   "execution_count": null,
   "id": "f2c5e87a",
   "metadata": {
    "vscode": {
     "languageId": "plaintext"
    }
   },
   "outputs": [],
   "source": [
    "{% for message in messages %}\n",
    "{{ 'User' if message.role == 'user' else 'Assistant' }}: {{ message.content }}\n",
    "{% endfor %}\n",
    "Assistant:\n"
   ]
  }
 ],
 "metadata": {
  "language_info": {
   "name": "python"
  }
 },
 "nbformat": 4,
 "nbformat_minor": 5
}

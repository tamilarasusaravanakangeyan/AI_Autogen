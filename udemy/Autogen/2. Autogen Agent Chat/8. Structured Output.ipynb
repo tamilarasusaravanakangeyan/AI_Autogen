{
 "cells": [
  {
   "cell_type": "markdown",
   "metadata": {},
   "source": [
    "## Structured Output"
   ]
  },
  {
   "cell_type": "markdown",
   "metadata": {},
   "source": [
    "\"Labrador is a breed of Dog\"\n",
    "\n",
    "{\n",
    "    'content':'Dog',\n",
    "    'species':'Labra'\n",
    "}"
   ]
  },
  {
   "cell_type": "code",
   "execution_count": 9,
   "metadata": {},
   "outputs": [],
   "source": [
    "import asyncio\n",
    "from autogen_agentchat.agents import AssistantAgent\n",
    "from autogen_ext.models.openai import OpenAIChatCompletionClient\n",
    "from autogen_agentchat.messages import TextMessage\n",
    "from pydantic import BaseModel\n",
    "from dotenv import load_dotenv\n",
    "import os\n",
    "\n",
    "load_dotenv()\n",
    "api_key = os.getenv('OPENAI_API_KEY')\n"
   ]
  },
  {
   "cell_type": "code",
   "execution_count": 10,
   "metadata": {},
   "outputs": [],
   "source": [
    "from pydantic import BaseModel\n",
    "\n",
    "class PlanetInfo(BaseModel):\n",
    "    name: str\n",
    "    color: str\n",
    "    distance_miles: int"
   ]
  },
  {
   "cell_type": "code",
   "execution_count": 12,
   "metadata": {},
   "outputs": [],
   "source": [
    "model_client = OpenAIChatCompletionClient(\n",
    "    model = 'gpt-4o',\n",
    "    api_key=api_key,\n",
    "    response_format=PlanetInfo\n",
    "    )"
   ]
  },
  {
   "cell_type": "code",
   "execution_count": 15,
   "metadata": {},
   "outputs": [],
   "source": [
    "unstructured_model_client = OpenAIChatCompletionClient(\n",
    "    model = 'gpt-4o',\n",
    "    api_key=api_key,\n",
    "    # response_format=PlanetInfo\n",
    "    )"
   ]
  },
  {
   "cell_type": "code",
   "execution_count": null,
   "metadata": {},
   "outputs": [],
   "source": [
    "agent = AssistantAgent(\n",
    "    name='planet_agent',\n",
    "    model_client=unstructured_model_client,\n",
    "    system_message=\"You are a helpful assistant that provides information about planets. in the structure JSON\" \\\n",
    "    \"{ name :str\" \\\n",
    "    \"age : int\" \\\n",
    "    \"}\"\n",
    ")"
   ]
  },
  {
   "cell_type": "code",
   "execution_count": null,
   "metadata": {},
   "outputs": [
    {
     "name": "stdout",
     "output_type": "stream",
     "text": [
      "Certainly! Mars is the fourth planet from the Sun in our solar system, often referred to as the \"Red Planet\" due to its reddish appearance, which is a result of iron oxide (or rust) on its surface.\n",
      "\n",
      "Here are some key facts about Mars:\n",
      "\n",
      "1. **Distance from the Sun**: Mars is about 142 million miles (228 million kilometers) from the Sun.\n",
      "\n",
      "2. **Size and Mass**: Mars has a diameter of approximately 4,212 miles (6,779 kilometers), making it about half the size of Earth. Its mass is about 11% that of Earth's.\n",
      "\n",
      "3. **Gravity**: The gravity on Mars is about 38% of Earth's gravity. This means that objects weigh less on Mars.\n",
      "\n",
      "4. **Moons**: Mars has two small moons, Phobos and Deimos. They are thought to be captured asteroids from the asteroid belt.\n",
      "\n",
      "5. **Atmosphere**: Mars has a thin atmosphere composed mostly of carbon dioxide (about 95.3%), with traces of nitrogen and argon. It has very little oxygen and water vapor.\n",
      "\n",
      "6. **Climate**: The climate on Mars is cold and dry, with average surface temperatures around minus 80 degrees Fahrenheit (minus 60 degrees Celsius). Temperatures can vary from about minus 195 F (minus 125 C) at the poles during winter to about 70 F (20 C) at midday near the equator.\n",
      "\n",
      "7. **Surface Features**: Mars has the largest volcano in the solar system, Olympus Mons, which stands about 13.6 miles (22 kilometers) tall. It also has a vast canyon system, Valles Marineris, which stretches over 2,500 miles (4,000 kilometers).\n",
      "\n",
      "8. **Water**: There is evidence of water ice on Mars, both at the polar ice caps and beneath the surface. In recent years, there have been signs of liquid saltwater flowing seasonally on the surface.\n",
      "\n",
      "9. **Exploration**: Mars has been a major target for exploration by spacecraft. Notable missions include NASA's rovers like Sojourner, Spirit, Opportunity, Curiosity, and Perseverance, as well as the InSight lander and various orbiters from NASA, ESA, and other space agencies.\n",
      "\n",
      "10. **Potential for Life**: Scientists are particularly interested in Mars because of its potential to have harbored life in the past. The planet's conditions billions of years ago may have been more conducive to life, and current missions aim to find signs of past life.\n",
      "\n",
      "Research and exploration missions continue to provide new insights into the geology, climate, and potential habitability of Mars.\n"
     ]
    }
   ],
   "source": [
    "async def test_structured_output():\n",
    "    task = TextMessage(content = \"Please provide information about Mars.\",source='User')\n",
    "    result = await agent.run(task=task)\n",
    "    structured_response = result.messages[-1].content\n",
    "    print(structured_response)\n",
    "\n",
    "await test_structured_output()"
   ]
  },
  {
   "cell_type": "code",
   "execution_count": null,
   "metadata": {},
   "outputs": [],
   "source": []
  }
 ],
 "metadata": {
  "kernelspec": {
   "display_name": "Python 3",
   "language": "python",
   "name": "python3"
  },
  "language_info": {
   "codemirror_mode": {
    "name": "ipython",
    "version": 3
   },
   "file_extension": ".py",
   "mimetype": "text/x-python",
   "name": "python",
   "nbconvert_exporter": "python",
   "pygments_lexer": "ipython3",
   "version": "3.12.9"
  }
 },
 "nbformat": 4,
 "nbformat_minor": 2
}

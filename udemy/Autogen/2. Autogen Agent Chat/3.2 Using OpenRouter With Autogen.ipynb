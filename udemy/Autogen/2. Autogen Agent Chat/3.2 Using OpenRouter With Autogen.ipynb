{
 "cells": [
  {
   "cell_type": "markdown",
   "id": "56ac296d",
   "metadata": {},
   "source": [
    "# Using Autogen with OpenRouter API ( Free API Key :) "
   ]
  },
  {
   "cell_type": "markdown",
   "id": "395be4eb",
   "metadata": {},
   "source": [
    "1. OpenAI\n",
    "2. Local ollama setup (llama or mistral)\n"
   ]
  },
  {
   "cell_type": "code",
   "execution_count": 4,
   "id": "68c71357",
   "metadata": {},
   "outputs": [],
   "source": [
    "import asyncio\n",
    "from autogen_agentchat.agents import AssistantAgent\n",
    "from autogen_agentchat.teams import SelectorGroupChat\n",
    "from autogen_ext.models.openai import OpenAIChatCompletionClient\n",
    "from autogen_agentchat.conditions import TextMentionTermination\n",
    "from dotenv import load_dotenv\n",
    "import os\n",
    "\n",
    "# Load API key\n",
    "load_dotenv()\n",
    "openai_key_openrouter = os.getenv(\"OPENAI_KEY_OPENROUTER\")\n",
    "deepseek_key_openrouter = os.getenv(\"DEEPSEEK_KEY_OPENROUTER\")\n"
   ]
  },
  {
   "cell_type": "code",
   "execution_count": null,
   "id": "78cdae31",
   "metadata": {},
   "outputs": [],
   "source": [
    "openai_key_openrouter"
   ]
  },
  {
   "cell_type": "code",
   "execution_count": 5,
   "id": "11abffcf",
   "metadata": {},
   "outputs": [
    {
     "name": "stderr",
     "output_type": "stream",
     "text": [
      "/Users/tamilarasusaravanakangeyan/Desktop/projects/git_repo/tamilsmtp/AI_Autogen/.venv/lib/python3.13/site-packages/autogen_ext/models/openai/_openai_client.py:413: UserWarning: Missing required field 'structured_output' in ModelInfo. This field will be required in a future version of AutoGen.\n",
      "  validate_model_info(self._model_info)\n"
     ]
    }
   ],
   "source": [
    "open_router_model_client =  OpenAIChatCompletionClient(\n",
    "    base_url=\"https://openrouter.ai/api/v1\",\n",
    "    model=\"deepseek/deepseek-r1-0528:free\",\n",
    "    api_key = deepseek_key_openrouter,\n",
    "    model_info={\n",
    "        \"family\":'deepseek',\n",
    "        \"vision\" :True,\n",
    "        \"function_calling\":True,\n",
    "        \"json_output\": False\n",
    "    }\n",
    ")"
   ]
  },
  {
   "cell_type": "code",
   "execution_count": 6,
   "id": "522b14cf",
   "metadata": {},
   "outputs": [],
   "source": [
    "assistant_agent1 = AssistantAgent(\n",
    "    name = 'helpful_agent',\n",
    "    model_client = open_router_model_client,\n",
    "    system_message='You are a helpful assistant Agent'\n",
    ")"
   ]
  },
  {
   "cell_type": "code",
   "execution_count": 7,
   "id": "4b83b8aa",
   "metadata": {},
   "outputs": [
    {
     "name": "stdout",
     "output_type": "stream",
     "text": [
      "[TextMessage(source='user', models_usage=None, metadata={}, content='Hey how are you today ?', type='TextMessage'), TextMessage(source='helpful_agent', models_usage=RequestUsage(prompt_tokens=18, completion_tokens=226), metadata={}, content=\"I'm doing great, thanks for asking! 😊 How about you—how's your day going so far? Anything exciting happening?\", type='TextMessage')]\n"
     ]
    }
   ],
   "source": [
    "result = await assistant_agent1.run(task = 'Hey how are you today ?')\n",
    "print(result.messages)"
   ]
  },
  {
   "cell_type": "code",
   "execution_count": 8,
   "id": "c3cfb540",
   "metadata": {},
   "outputs": [
    {
     "data": {
      "text/plain": [
       "\"I'm doing great, thanks for asking! 😊 How about you—how's your day going so far? Anything exciting happening?\""
      ]
     },
     "execution_count": 8,
     "metadata": {},
     "output_type": "execute_result"
    }
   ],
   "source": [
    "result.messages[-1].content"
   ]
  },
  {
   "cell_type": "code",
   "execution_count": null,
   "id": "ba0008c7",
   "metadata": {},
   "outputs": [],
   "source": []
  }
 ],
 "metadata": {
  "kernelspec": {
   "display_name": ".venv",
   "language": "python",
   "name": "python3"
  },
  "language_info": {
   "codemirror_mode": {
    "name": "ipython",
    "version": 3
   },
   "file_extension": ".py",
   "mimetype": "text/x-python",
   "name": "python",
   "nbconvert_exporter": "python",
   "pygments_lexer": "ipython3",
   "version": "3.13.3"
  }
 },
 "nbformat": 4,
 "nbformat_minor": 5
}

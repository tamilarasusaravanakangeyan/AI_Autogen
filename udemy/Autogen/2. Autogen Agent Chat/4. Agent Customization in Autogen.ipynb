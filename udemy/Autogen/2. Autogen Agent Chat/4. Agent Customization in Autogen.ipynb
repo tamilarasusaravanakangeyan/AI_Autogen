{
 "cells": [
  {
   "cell_type": "markdown",
   "metadata": {},
   "source": [
    "# Agent Customization & Prompt Engineering in AutoGen v0.4"
   ]
  },
  {
   "cell_type": "code",
   "execution_count": 1,
   "metadata": {},
   "outputs": [],
   "source": [
    "from autogen_agentchat.agents import AssistantAgent\n",
    "from autogen_ext.models.openai import OpenAIChatCompletionClient\n",
    "from dotenv import load_dotenv\n",
    "import os\n",
    "\n",
    "load_dotenv()\n",
    "api_key = os.getenv('OPENAI_API_KEY')\n",
    "model_client = OpenAIChatCompletionClient(model='gpt-4', api_key=api_key)"
   ]
  },
  {
   "cell_type": "markdown",
   "metadata": {},
   "source": [
    "### Agent Customization\n",
    "\n",
    "- We can assign a role to our agent\n",
    "- help in fitting agent to specific use case\n"
   ]
  },
  {
   "cell_type": "code",
   "execution_count": 3,
   "metadata": {},
   "outputs": [],
   "source": [
    "asssistant = AssistantAgent(\n",
    "    name = 'history_expert',\n",
    "    model_client=model_client,\n",
    "    description='A knowledgeable assistant with expertise in world history',\n",
    "    system_message='You are a history expert with deep knowledge of world history. Provide detailed and accuragte answers about historical events,figures and timelines'\n",
    ")"
   ]
  },
  {
   "cell_type": "code",
   "execution_count": 8,
   "metadata": {},
   "outputs": [],
   "source": [
    "async def test_history_expert():\n",
    "    result = await asssistant.run(task = 'Who was the first President of USA?')\n",
    "    print(result.messages[-1].content)\n",
    "    "
   ]
  },
  {
   "cell_type": "code",
   "execution_count": 5,
   "metadata": {},
   "outputs": [
    {
     "name": "stdout",
     "output_type": "stream",
     "text": [
      "The first President of the United States was George Washington. He served from 1789 to 1797. Before his presidency, Washington was well-known for his role in the American Revolutionary War as the commander-in-chief of the Continental Army. He is also noted for his presidency because he set many of the precedents for the office that are still followed today, such as limiting himself to only two terms in office. His presidency is significant for establishing numerous structures and procedures that still exist in the U.S. government today.\n"
     ]
    }
   ],
   "source": [
    "await test_history_expert()"
   ]
  },
  {
   "cell_type": "markdown",
   "metadata": {},
   "source": [
    "The first President of the United States was George Washington. He served from 1789 to 1797. Before his presidency, Washington was well-known for his role in the American Revolutionary War as the commander-in-chief of the Continental Army. He is also noted for his presidency because he set many of the precedents for the office that are still followed today, such as limiting himself to only two terms in office. His presidency is significant for establishing numerous structures and procedures that still exist in the U.S. government today."
   ]
  },
  {
   "cell_type": "markdown",
   "metadata": {},
   "source": [
    "# Prompt Engineering\n",
    "\n",
    "[Prompt Engineering - OpenAI ](https://platform.openai.com/docs/guides/prompt-engineering)"
   ]
  },
  {
   "cell_type": "code",
   "execution_count": 6,
   "metadata": {},
   "outputs": [],
   "source": [
    "asssistant = AssistantAgent(\n",
    "    name = 'history_expert',\n",
    "    model_client=model_client,\n",
    "    description='A knowledgeable assistant with expertise in world history',\n",
    "    system_message='You are a history expert with deep knowledge of world history who explaines event in a storytelling style, as if narrating a historic novel. Be vivid and engaging and focus on figures and events'\n",
    ")"
   ]
  },
  {
   "cell_type": "code",
   "execution_count": 10,
   "metadata": {},
   "outputs": [],
   "source": [
    "async def test_storytelling():\n",
    "    result = await asssistant.run(task = 'Tell me about something on the signing of Declaration of Independence')\n",
    "    print(result.messages[-1].content)\n",
    "    "
   ]
  },
  {
   "cell_type": "code",
   "execution_count": 11,
   "metadata": {},
   "outputs": [
    {
     "name": "stdout",
     "output_type": "stream",
     "text": [
      "Chapter One: The Thirteen Colonies, July 4, 1776\n",
      "\n",
      "Like a sulking storm, tension had been brewing for months in the thirteen American colonies. For too long, they had been the marionettes dancing to the discordant tunes of a British puppeteer. The trampling of their rights was accompanied by the haughty laughter of an invincible monarch oceans away — King George III. But the people of the colonies were not to be owned. They craved freedom and stoked a rebellion that echoed through the chambers of history.\n",
      "\n",
      "Chapter Two: The Secret Chamber, June 7, 1776\n",
      "\n",
      "The smoke of discontent rose from the cobblestone streets and found its way into the hallowed sanctuary of the Continental Congress in Philadelphia. It was inside this aflame room, dripping with anticipation, that Richard Henry Lee of Virginia posed the challenge of a lifetime. He proposed a resolution and those revolutionary words reverberated through the air, \"Resolved: That these United Colonies are, and of right ought to be, free and independent States.\"\n",
      "\n",
      "Chapter Three: The Committee of Five, June 11, 1776\n",
      "\n",
      "Five men were chosen to draft an audacious document, a brazen clarion call to the world. These were no ordinary men, but visionaries. You had John Adams of Massachusetts, Benjamin Franklin of Pennsylvania, Thomas Jefferson of Virginia, Robert R. Livingston of New York and Roger Sherman of Connecticut. They burned the midnight oil, their quills dancing furiously across parchments, the light of the solitary candle flickering in the eyes of their determination.\n",
      "\n",
      "Chapter Four: The Avid Artisan, July 2, 1776\n",
      "\n",
      "Fair and frail, a parchment lay on the table. Upon it, the euphoria, dreams, rebels, and freedom of a burgeoning nation. Etched in the eloquence of Thomas Jefferson’s words was a beacon - a Declaration of Independence. A portrait of courage and resilience, this document voiced the silent cries of the oppressed and struck the chords of liberty.\n",
      "\n",
      "Chapter Five: The Unanimous Declaration, July 4, 1776\n",
      "\n",
      "The hot summer day of July 4th was about to etch an indelible mark on history’s sprawling canvas. With a mix of apprehension and excitement in the air, the elegant prose of the Declaration was read aloud to the members. With each word, their resolve only hardened. They knew the stakes, life or death. The bell rang loud, summoning the members to inscribe their approval.\n",
      "\n",
      "Chapter Six: The Sign, August 2, 1776\n",
      "\n",
      "In a ceremony marked by equal parts solemnity and celebration, 56 delegates ritually signed the handwritten parchment. The bold stroke of John Hancock, the President of the Congress, was a testament to their defiance. As each signature furrowed into the parchment, a new nail hammered into the coffin of British rule. With each quill lowered, a brave new world of American liberty was conceived.\n",
      "\n",
      "Epilogue: The Liberty Bell, July 8, 1776\n",
      "\n",
      "Four days later, a deeply resonant bell echoed through the streets of Philadelphia. The Liberty Bell, it was called. As its chimes topped the air, the citizens gathered to listen to the first public reading of the Declaration of Independence. The bell's loud bronze voice was a symbol of their newfound freedom, a song of revolution, triumph, and the extraordinary birth of a nation.\n"
     ]
    }
   ],
   "source": [
    "await test_storytelling()"
   ]
  },
  {
   "cell_type": "markdown",
   "metadata": {},
   "source": []
  },
  {
   "cell_type": "code",
   "execution_count": 16,
   "metadata": {},
   "outputs": [
    {
     "name": "stdout",
     "output_type": "stream",
     "text": [
      "The weather in New York is sunny!\n"
     ]
    }
   ],
   "source": [
    "import asyncio\n",
    "from autogen_agentchat.agents import AssistantAgent\n",
    "from autogen_ext.models.openai import OpenAIChatCompletionClient\n",
    "from dotenv import load_dotenv\n",
    "import os\n",
    "\n",
    "# Load API key from .env\n",
    "load_dotenv()\n",
    "api_key = os.getenv(\"OPENAI_API_KEY\")\n",
    "model_client = OpenAIChatCompletionClient(model=\"gpt-4\", api_key=api_key)\n",
    "\n",
    "# Define a simple tool\n",
    "def get_weather(city: str) -> str:\n",
    "    return f\"The weather in {city} is sunny!\"  # Dummy response\n",
    "\n",
    "# Set up the agent\n",
    "agent = AssistantAgent(\n",
    "    name=\"weather_agent\",\n",
    "    model_client=model_client,\n",
    "    system_message=\"You are a weather assistant. Use the get_weather tool when asked about weather.\",\n",
    "    tools=[get_weather],\n",
    "    reflect_on_tool_use=True\n",
    ")\n",
    "\n",
    "# Run the agent\n",
    "async def main():\n",
    "    result = await agent.run(task=\"What’s the weather in New York?\")\n",
    "    print(result.messages[-1].content)\n",
    "\n",
    "await main()\n"
   ]
  },
  {
   "cell_type": "code",
   "execution_count": null,
   "metadata": {},
   "outputs": [],
   "source": []
  }
 ],
 "metadata": {
  "kernelspec": {
   "display_name": "Python 3",
   "language": "python",
   "name": "python3"
  },
  "language_info": {
   "codemirror_mode": {
    "name": "ipython",
    "version": 3
   },
   "file_extension": ".py",
   "mimetype": "text/x-python",
   "name": "python",
   "nbconvert_exporter": "python",
   "pygments_lexer": "ipython3",
   "version": "3.12.9"
  }
 },
 "nbformat": 4,
 "nbformat_minor": 2
}

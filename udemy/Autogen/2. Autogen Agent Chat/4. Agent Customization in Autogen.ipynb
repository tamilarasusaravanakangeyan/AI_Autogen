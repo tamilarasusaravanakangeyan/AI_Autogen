{
 "cells": [
  {
   "cell_type": "markdown",
   "metadata": {},
   "source": [
    "# Agent Customization & Prompt Engineering in AutoGen v0.4"
   ]
  },
  {
   "cell_type": "code",
   "execution_count": null,
   "metadata": {},
   "outputs": [],
   "source": [
    "from autogen_agentchat.agents import AssistantAgent\n",
    "from autogen_ext.models.openai import OpenAIChatCompletionClient\n",
    "from dotenv import load_dotenv\n",
    "import os\n",
    "\n",
    "load_dotenv()\n",
    "api_key = os.getenv('OPENAI_KEY_OPENROUTER')\n",
    "model_client = OpenAIChatCompletionClient(model='gpt-4', api_key=api_key)"
   ]
  },
  {
   "cell_type": "markdown",
   "metadata": {},
   "source": [
    "### Agent Customization\n",
    "\n",
    "- We can assign a role to our agent\n",
    "- help in fitting agent to specific use case\n"
   ]
  },
  {
   "cell_type": "code",
   "execution_count": 3,
   "metadata": {},
   "outputs": [],
   "source": [
    "asssistant = AssistantAgent(\n",
    "    name = 'history_expert',\n",
    "    model_client=model_client,\n",
    "    description='A knowledgeable assistant with expertise in world history',\n",
    "    system_message='You are a history expert with deep knowledge of world history. Provide detailed and accuragte answers about historical events,figures and timelines'\n",
    ")"
   ]
  },
  {
   "cell_type": "code",
   "execution_count": 8,
   "metadata": {},
   "outputs": [],
   "source": [
    "async def test_history_expert():\n",
    "    result = await asssistant.run(task = 'Who was the first President of USA?')\n",
    "    print(result.messages[-1].content)\n",
    "    "
   ]
  },
  {
   "cell_type": "code",
   "execution_count": 5,
   "metadata": {},
   "outputs": [
    {
     "name": "stdout",
     "output_type": "stream",
     "text": [
      "The first President of the United States was George Washington. He served from 1789 to 1797. Before his presidency, Washington was well-known for his role in the American Revolutionary War as the commander-in-chief of the Continental Army. He is also noted for his presidency because he set many of the precedents for the office that are still followed today, such as limiting himself to only two terms in office. His presidency is significant for establishing numerous structures and procedures that still exist in the U.S. government today.\n"
     ]
    }
   ],
   "source": [
    "await test_history_expert()"
   ]
  },
  {
   "cell_type": "markdown",
   "metadata": {},
   "source": [
    "The first President of the United States was George Washington. He served from 1789 to 1797. Before his presidency, Washington was well-known for his role in the American Revolutionary War as the commander-in-chief of the Continental Army. He is also noted for his presidency because he set many of the precedents for the office that are still followed today, such as limiting himself to only two terms in office. His presidency is significant for establishing numerous structures and procedures that still exist in the U.S. government today."
   ]
  },
  {
   "cell_type": "markdown",
   "metadata": {},
   "source": [
    "# Prompt Engineering\n",
    "\n",
    "[Prompt Engineering - OpenAI ](https://platform.openai.com/docs/guides/prompt-engineering)"
   ]
  },
  {
   "cell_type": "code",
   "execution_count": 2,
   "metadata": {},
   "outputs": [],
   "source": [
    "asssistant = AssistantAgent(\n",
    "    name = 'history_expert',\n",
    "    model_client=model_client,\n",
    "    description='A knowledgeable assistant with expertise in world history',\n",
    "    system_message='You are a history expert with deep knowledge of world history who explaines event in a storytelling style, as if narrating a historic novel. Be vivid and engaging and focus on figures and events'\n",
    ")"
   ]
  },
  {
   "cell_type": "code",
   "execution_count": 3,
   "metadata": {},
   "outputs": [],
   "source": [
    "async def test_storytelling():\n",
    "    result = await asssistant.run(task = 'Tell me about something on the signing of Declaration of Independence')\n",
    "    print(result.messages[-1].content)\n",
    "    "
   ]
  },
  {
   "cell_type": "code",
   "execution_count": 4,
   "metadata": {},
   "outputs": [
    {
     "name": "stdout",
     "output_type": "stream",
     "text": [
      "Once upon a time, in the sweltering summer of 1776, a dramatic political showdown was on the horizon in Philadelphia. At the heart of it was a rebellious congress comprised of delegates from thirteen British colonies. Across the Atlantic, the powerful King George III reigned supreme over Great Britain, but the seeds of rebellion were beginning to sprout across the distant colonies.\n",
      "\n",
      "In Philadelphia's statehouse, now known as Independence Hall, passion and debate sparked the air. Among the contestants was a roster of men who would one day be hailed as heroes. These delegates, these liberty-seekers included the stalwart John Adams of Massachusetts, the eloquent Thomas Jefferson of Virginia, and the legendary Benjamin Franklin of Pennsylvania, a man as wise and wily as they came.\n",
      "\n",
      "The topic: a bold, far-reaching declaration asserting their liberty - a protest against the yoke of British rule. A resolution had been presented by the feisty Virginian, Richard Henry Lee, proposing the colonies' independence. The idea of a united declaration became inevitable. Thomas Jefferson, with his smooth quill and sharper mind, had the solemn duty of drafting this revolutionary document—a task he undertook with silent dedication and steely resolve.\n",
      "\n",
      "While the Congress sought to separate itself from the clutches of the British monarchy, it faced a process laced with heated arguments. The smallest to the most significant parts of Jefferson's original text underwent a thorough, brutal scrutiny. Some parts were tweaked, others cut entirely, causing much frustration to the young Virginian. Yet, the most critical element—the assertion of human equality and people's rights to life, liberty, and pursuit of happiness—remained unchanged.\n",
      "\n",
      "The debate raged on until early July. Despite the scorching heat, the draughty meeting room's atmosphere was electrifying. Finally, on July 4, 1776, the Congress courageously adopted the revised Declaration of Independence. \n",
      "\n",
      "But the story does not end here. The document would not claim its full form till it was signed. And so, it was on August 2, 1776, that the delegates, one by one, affixed their signatures to that sacred parchment. Among the first was the bold John Hancock, the President of Congress, known forever for his flourishing, defiantly large autograph. \n",
      "\n",
      "As each man signed, it was no ordinary act, but akin to signing their death warrant. To the mighty Empire they were defying, they were not heroes, but traitors. Yet they stood undeterred, every signature representing a promise of loyalty not to a distant monarch, but to a new nation founded on individual rights and liberty.\n",
      "\n",
      "Thus, the Declaration of Independence, a document as splendid in ideology as it was profound, came to be. It was a bright beacon for the colonies in their fight for freedom - their ticket to a new dawn, shedding the tenebrous yoke of colonialism. With its signing, it marked the birth of a young, vibrant nation, destined to be a great democracy - the United States of America.\n"
     ]
    }
   ],
   "source": [
    "await test_storytelling()"
   ]
  },
  {
   "cell_type": "markdown",
   "metadata": {},
   "source": []
  },
  {
   "cell_type": "code",
   "execution_count": 1,
   "metadata": {},
   "outputs": [
    {
     "name": "stdout",
     "output_type": "stream",
     "text": [
      "The weather in New York is sunny!\n"
     ]
    }
   ],
   "source": [
    "import asyncio\n",
    "from autogen_agentchat.agents import AssistantAgent\n",
    "from autogen_ext.models.openai import OpenAIChatCompletionClient\n",
    "from dotenv import load_dotenv\n",
    "import os\n",
    "\n",
    "# Load API key from .env\n",
    "load_dotenv()\n",
    "api_key = os.getenv(\"OPENAI_API_KEY\")\n",
    "model_client = OpenAIChatCompletionClient(model=\"gpt-4\", api_key=api_key)\n",
    "\n",
    "# Define a simple tool\n",
    "def get_weather(city: str) -> str:\n",
    "    return f\"The weather in {city} is sunny!\"  # Dummy response\n",
    "\n",
    "# Set up the agent\n",
    "agent = AssistantAgent(\n",
    "    name=\"weather_agent\",\n",
    "    model_client=model_client,\n",
    "    system_message=\"You are a weather assistant. Use the get_weather tool when asked about weather.\",\n",
    "    tools=[get_weather],\n",
    "    reflect_on_tool_use=True\n",
    ")\n",
    "\n",
    "# Run the agent\n",
    "async def main():\n",
    "    result = await agent.run(task=\"What’s the weather in New York?\")\n",
    "    print(result.messages[-1].content)\n",
    "\n",
    "await main()\n"
   ]
  },
  {
   "cell_type": "code",
   "execution_count": null,
   "metadata": {},
   "outputs": [],
   "source": []
  }
 ],
 "metadata": {
  "kernelspec": {
   "display_name": ".venv",
   "language": "python",
   "name": "python3"
  },
  "language_info": {
   "codemirror_mode": {
    "name": "ipython",
    "version": 3
   },
   "file_extension": ".py",
   "mimetype": "text/x-python",
   "name": "python",
   "nbconvert_exporter": "python",
   "pygments_lexer": "ipython3",
   "version": "3.13.3"
  }
 },
 "nbformat": 4,
 "nbformat_minor": 2
}

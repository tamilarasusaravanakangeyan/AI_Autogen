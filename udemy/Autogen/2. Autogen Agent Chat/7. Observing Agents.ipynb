{
 "cells": [
  {
   "cell_type": "markdown",
   "metadata": {},
   "source": [
    "# Running and Observing Agents"
   ]
  },
  {
   "cell_type": "code",
   "execution_count": 1,
   "metadata": {},
   "outputs": [],
   "source": [
    "from autogen_agentchat.agents import AssistantAgent\n",
    "from autogen_ext.models.openai import OpenAIChatCompletionClient\n",
    "from autogen_agentchat.messages import TextMessage\n",
    "from dotenv import load_dotenv\n",
    "import os\n",
    "\n",
    "load_dotenv()\n",
    "api_key = os.getenv('OPENAI_API_KEY')\n",
    "model_client = OpenAIChatCompletionClient(model='gpt-4o', api_key=api_key)"
   ]
  },
  {
   "cell_type": "code",
   "execution_count": 2,
   "metadata": {},
   "outputs": [],
   "source": [
    "async def web_search(query: str) -> str:\n",
    "    \"\"\"Find information on the web\"\"\"\n",
    "    return \"The Labrador Retriever or simply Labrador is a British breed of retriever gun dog. \""
   ]
  },
  {
   "cell_type": "code",
   "execution_count": 3,
   "metadata": {},
   "outputs": [],
   "source": [
    "agent = AssistantAgent(\n",
    "    name='assistant',\n",
    "    model_client=model_client,\n",
    "    tools=[web_search],\n",
    "    system_message='Use Tools to solve tasks'\n",
    ")"
   ]
  },
  {
   "cell_type": "code",
   "execution_count": 4,
   "metadata": {},
   "outputs": [
    {
     "name": "stdout",
     "output_type": "stream",
     "text": [
      "The Labrador Retriever or simply Labrador is a British breed of retriever gun dog. \n"
     ]
    }
   ],
   "source": [
    "result = await agent.run(task='Find information about Labrador Retriever')\n",
    "print(result.messages[-1].content)"
   ]
  },
  {
   "cell_type": "markdown",
   "metadata": {},
   "source": [
    "### On_message() method"
   ]
  },
  {
   "cell_type": "code",
   "execution_count": 8,
   "metadata": {},
   "outputs": [
    {
     "name": "stdout",
     "output_type": "stream",
     "text": [
      "[ToolCallRequestEvent(source='assistant', models_usage=RequestUsage(prompt_tokens=173, completion_tokens=20), metadata={}, content=[FunctionCall(id='call_jOBUXat15N4sx9LwNP1m74To', arguments='{\"query\":\"Labrador Retriever breed details\"}', name='web_search')], type='ToolCallRequestEvent'), ToolCallExecutionEvent(source='assistant', models_usage=None, metadata={}, content=[FunctionExecutionResult(content='The Labrador Retriever or simply Labrador is a British breed of retriever gun dog. ', name='web_search', call_id='call_jOBUXat15N4sx9LwNP1m74To', is_error=False)], type='ToolCallExecutionEvent')]\n",
      "\n",
      "\n",
      "\n",
      "\n",
      "\n",
      "source='assistant' models_usage=None metadata={} content='The Labrador Retriever or simply Labrador is a British breed of retriever gun dog. ' type='ToolCallSummaryMessage'\n"
     ]
    }
   ],
   "source": [
    "from autogen_core import CancellationToken\n",
    "\n",
    "async def assistant_run()-> None:\n",
    "    response = await agent.on_messages(\n",
    "        messages= [TextMessage(content='Find information about Labrador Retriever',source='User')],\n",
    "        cancellation_token=CancellationToken()\n",
    "    )\n",
    "\n",
    "    print(response.inner_messages)\n",
    "    print('\\n\\n\\n\\n')\n",
    "    print(response.chat_message)\n",
    "\n",
    "await assistant_run()"
   ]
  },
  {
   "cell_type": "code",
   "execution_count": 9,
   "metadata": {},
   "outputs": [
    {
     "name": "stdout",
     "output_type": "stream",
     "text": [
      "[ToolCallRequestEvent(source='assistant', models_usage=RequestUsage(prompt_tokens=233, completion_tokens=21), metadata={}, content=[FunctionCall(id='call_nwiIEOQ43lFvGxz2yvZe0TAc', arguments='{\"query\":\"Labrador Retriever details and characteristics\"}', name='web_search')], type='ToolCallRequestEvent'), ToolCallExecutionEvent(source='assistant', models_usage=None, metadata={}, content=[FunctionExecutionResult(content='The Labrador Retriever or simply Labrador is a British breed of retriever gun dog. ', name='web_search', call_id='call_nwiIEOQ43lFvGxz2yvZe0TAc', is_error=False)], type='ToolCallExecutionEvent')]\n",
      "\n",
      "\n",
      "\n",
      "\n",
      "\n",
      "source='assistant' models_usage=None metadata={} content='The Labrador Retriever or simply Labrador is a British breed of retriever gun dog. ' type='ToolCallSummaryMessage'\n"
     ]
    }
   ],
   "source": [
    "from autogen_core import CancellationToken\n",
    "\n",
    "async def assistant_run()-> None:\n",
    "    response = await agent.on_messages(\n",
    "        messages= [TextMessage(content='Find information about Labrador Retriever via the tool',source='User')],\n",
    "        cancellation_token=CancellationToken()\n",
    "    )\n",
    "\n",
    "    print(response.inner_messages)\n",
    "    print('\\n\\n\\n\\n')\n",
    "    print(response.chat_message)\n",
    "\n",
    "await assistant_run()"
   ]
  },
  {
   "cell_type": "markdown",
   "metadata": {},
   "source": [
    "### Streaming Messages\n",
    "\n",
    "#### on_messages_stream()"
   ]
  },
  {
   "cell_type": "code",
   "execution_count": 10,
   "metadata": {},
   "outputs": [
    {
     "name": "stdout",
     "output_type": "stream",
     "text": [
      "---------- assistant ----------\n",
      "[FunctionCall(id='call_WXOXOTqWRTMAK9i8WPQNGIIB', arguments='{\"query\":\"Labrador Retriever dog breed information\"}', name='web_search')]\n",
      "[Prompt tokens: 294, Completion tokens: 21]\n",
      "---------- assistant ----------\n",
      "[FunctionExecutionResult(content='The Labrador Retriever or simply Labrador is a British breed of retriever gun dog. ', name='web_search', call_id='call_WXOXOTqWRTMAK9i8WPQNGIIB', is_error=False)]\n",
      "---------- assistant ----------\n",
      "The Labrador Retriever or simply Labrador is a British breed of retriever gun dog. \n",
      "---------- Summary ----------\n",
      "Number of inner messages: 2\n",
      "Total prompt tokens: 294\n",
      "Total completion tokens: 21\n",
      "Duration: 1.24 seconds\n"
     ]
    }
   ],
   "source": [
    "from autogen_agentchat.ui import Console\n",
    "\n",
    "\n",
    "async def assistant_run_stream() -> None:\n",
    "\n",
    "    await Console(\n",
    "        agent.on_messages_stream(\n",
    "        messages= [TextMessage(content='Find information about Labrador Retriever via the tool',source='User')],\n",
    "        cancellation_token=CancellationToken()\n",
    "    ),\n",
    "    output_stats=True # Enable stats Printing\n",
    "    )\n",
    "\n",
    "\n",
    "await assistant_run_stream()"
   ]
  },
  {
   "cell_type": "code",
   "execution_count": null,
   "metadata": {},
   "outputs": [],
   "source": []
  }
 ],
 "metadata": {
  "kernelspec": {
   "display_name": "Python 3",
   "language": "python",
   "name": "python3"
  },
  "language_info": {
   "codemirror_mode": {
    "name": "ipython",
    "version": 3
   },
   "file_extension": ".py",
   "mimetype": "text/x-python",
   "name": "python",
   "nbconvert_exporter": "python",
   "pygments_lexer": "ipython3",
   "version": "3.12.9"
  }
 },
 "nbformat": 4,
 "nbformat_minor": 2
}

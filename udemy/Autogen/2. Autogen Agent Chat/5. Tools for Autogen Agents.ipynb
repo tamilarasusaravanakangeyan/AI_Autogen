{
 "cells": [
  {
   "cell_type": "markdown",
   "metadata": {},
   "source": [
    "# Using Tools with our Autogen Agent\n"
   ]
  },
  {
   "cell_type": "markdown",
   "metadata": {},
   "source": [
    "Its like giving our assistant a toolbox to solve the problems."
   ]
  },
  {
   "cell_type": "code",
   "execution_count": 6,
   "metadata": {},
   "outputs": [],
   "source": [
    "from autogen_agentchat.agents import AssistantAgent\n",
    "from autogen_ext.models.openai import OpenAIChatCompletionClient\n",
    "from dotenv import load_dotenv\n",
    "import os\n",
    "\n",
    "load_dotenv()\n",
    "api_key = os.getenv('OPENAI_API_KEY')\n",
    "model_client = OpenAIChatCompletionClient(model='gpt-4', api_key=api_key)"
   ]
  },
  {
   "cell_type": "markdown",
   "metadata": {},
   "source": [
    "# Tools\n",
    "\n",
    "'What's the weather in new York'\n",
    "\n",
    "Special Functions that let the agents do things like fetch data, calculate numbers or even call external services.\n",
    "\n",
    "WIthout tools, agent can only chat. With tools, they can act."
   ]
  },
  {
   "cell_type": "code",
   "execution_count": 11,
   "metadata": {},
   "outputs": [],
   "source": [
    "def get_weather(city:str) -> str:\n",
    "    \"\"\"\n",
    "    Fetches the weather for a given city.\n",
    "    This is a placeholder function and should be replaced with actual weather fetching logic.\n",
    "    For example, you could use a weather API to get real-time data.\n",
    "    :param city: Name of the city to fetch weather for.\n",
    "    :return: Weather information as a string.\n",
    "    \"\"\"\n",
    "    # Placeholder function to simulate weather fetching\n",
    "    return f\"The weather in {city} is sunny with a high of 35°C.\"\n"
   ]
  },
  {
   "cell_type": "code",
   "execution_count": 19,
   "metadata": {},
   "outputs": [],
   "source": [
    "assistant = AssistantAgent(\n",
    "    name = 'weather_assistant',\n",
    "    model_client=model_client,\n",
    "    system_message='You are a weather assistant, Use the get_weather tool when asked about the weather in a city.',\n",
    "    tools= [get_weather]\n",
    ")"
   ]
  },
  {
   "cell_type": "code",
   "execution_count": 20,
   "metadata": {},
   "outputs": [],
   "source": [
    "async def test_weather_tool():\n",
    "    result = await assistant.run(task = 'What is the weather in New York?')\n",
    "    print(result.messages[-1].content)"
   ]
  },
  {
   "cell_type": "code",
   "execution_count": 21,
   "metadata": {},
   "outputs": [
    {
     "name": "stdout",
     "output_type": "stream",
     "text": [
      "The weather in New York is sunny with a high of 35°C.\n"
     ]
    }
   ],
   "source": [
    "await test_weather_tool()"
   ]
  },
  {
   "cell_type": "code",
   "execution_count": null,
   "metadata": {},
   "outputs": [],
   "source": []
  }
 ],
 "metadata": {
  "kernelspec": {
   "display_name": "Python 3",
   "language": "python",
   "name": "python3"
  },
  "language_info": {
   "codemirror_mode": {
    "name": "ipython",
    "version": 3
   },
   "file_extension": ".py",
   "mimetype": "text/x-python",
   "name": "python",
   "nbconvert_exporter": "python",
   "pygments_lexer": "ipython3",
   "version": "3.12.9"
  }
 },
 "nbformat": 4,
 "nbformat_minor": 2
}

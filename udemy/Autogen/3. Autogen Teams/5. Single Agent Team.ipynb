{
 "cells": [
  {
   "cell_type": "markdown",
   "id": "80098730",
   "metadata": {},
   "source": [
    "# Single Agent Team in Autogen"
   ]
  },
  {
   "cell_type": "markdown",
   "id": "923c143a",
   "metadata": {},
   "source": [
    "Perfect for tasks where one agent can handle everything but we want a team like-control."
   ]
  },
  {
   "cell_type": "code",
   "execution_count": 3,
   "id": "23a87545",
   "metadata": {},
   "outputs": [],
   "source": [
    "import asyncio\n",
    "from autogen_agentchat.agents import AssistantAgent\n",
    "\n",
    "from autogen_ext.models.openai import OpenAIChatCompletionClient\n",
    "from autogen_agentchat.messages import TextMessage\n",
    "from autogen_agentchat.teams import RoundRobinGroupChat\n",
    "from autogen_agentchat.conditions import TextMentionTermination\n",
    "from dotenv import load_dotenv\n",
    "import os\n",
    "\n",
    "load_dotenv()\n",
    "api_key = os.getenv('OPENAI_API_KEY')\n",
    "model_client = OpenAIChatCompletionClient(model='gpt-4o', api_key=api_key)\n",
    "\n"
   ]
  },
  {
   "cell_type": "markdown",
   "id": "7d36a2b2",
   "metadata": {},
   "source": [
    "# Why use a single Agent team?\n",
    "\n",
    "1. Consistency - termination conditions, logging, observing\n",
    "2. Scalability - we can add more agents as our use case expands without rewriting logic. \n",
    "3. Control - Features like observers or cancellation work seamlessly."
   ]
  },
  {
   "cell_type": "code",
   "execution_count": 5,
   "id": "68f7e7d2",
   "metadata": {},
   "outputs": [],
   "source": [
    "poet = AssistantAgent(\n",
    "    name = 'solo_poet',\n",
    "    model_client=model_client,\n",
    "    system_message=\"You are a poet. Write a short poem on Moon and end with 'MOONLIGHT FADES'. \"\n",
    ")\n",
    "\n",
    "termination = TextMentionTermination('MOONLIGHT FADES')\n",
    "\n",
    "team = RoundRobinGroupChat(\n",
    "    participants=[poet],\n",
    "    termination_condition=termination\n",
    ")"
   ]
  },
  {
   "cell_type": "code",
   "execution_count": 7,
   "id": "0f27fce3",
   "metadata": {},
   "outputs": [
    {
     "name": "stdout",
     "output_type": "stream",
     "text": [
      "user: Write a short poem on Moon\n",
      "solo_poet: In the velvet sky she gently sails,  \n",
      "Casting silver across the night's black veils,  \n",
      "Whispers of secrets the stars confide,  \n",
      "In her radiant glow, our dreams reside.  \n",
      "\n",
      "Through ancient tales and lovers' sighs,  \n",
      "Her light, a beacon in darkened skies,  \n",
      "A guardian of the night's embrace,  \n",
      "With quiet grace, she's slipped into place.  \n",
      "\n",
      "But as the dawn's first colors invade,  \n",
      "Her tender glow begins to evade,  \n",
      "And with a soft, ethereal glide,  \n",
      "She disappears as MOONLIGHT FADES.  \n"
     ]
    }
   ],
   "source": [
    "async def test_single_agent():\n",
    "    task = TextMessage(content=\"Write a short poem on Moon\",source='user')\n",
    "    result = await team.run(task = task)\n",
    "    for message in result.messages:\n",
    "        print(f\"{message.source}: {message.content}\")\n",
    "\n",
    "\n",
    "await test_single_agent() "
   ]
  },
  {
   "cell_type": "markdown",
   "id": "83532662",
   "metadata": {},
   "source": [
    "## Single-Agent Team vs. Plain Single Agent\n",
    "\n",
    "| Aspect             | Single-Agent Team            | Plain Single Agent          |\n",
    "|--------------------|------------------------------|-----------------------------|\n",
    "| **Termination**    | Stops with condition (e.g., \"MOONLIGHT FADES\") | Runs until task ends        |\n",
    "| **Observability**  | Supports Console observers   | Manual logging only         |\n",
    "| **Flexibility**    | Easily scales to multi-agent | Fixed to one agent          |"
   ]
  },
  {
   "cell_type": "code",
   "execution_count": null,
   "id": "d90d469d",
   "metadata": {},
   "outputs": [],
   "source": []
  }
 ],
 "metadata": {
  "kernelspec": {
   "display_name": "Python 3",
   "language": "python",
   "name": "python3"
  },
  "language_info": {
   "codemirror_mode": {
    "name": "ipython",
    "version": 3
   },
   "file_extension": ".py",
   "mimetype": "text/x-python",
   "name": "python",
   "nbconvert_exporter": "python",
   "pygments_lexer": "ipython3",
   "version": "3.12.9"
  }
 },
 "nbformat": 4,
 "nbformat_minor": 5
}

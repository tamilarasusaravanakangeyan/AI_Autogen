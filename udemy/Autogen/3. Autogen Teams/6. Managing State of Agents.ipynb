{
 "cells": [
  {
   "cell_type": "markdown",
   "id": "646d9a29",
   "metadata": {},
   "source": [
    "# Managing Agent State - Saving and Loading Agents"
   ]
  },
  {
   "cell_type": "code",
   "execution_count": 2,
   "id": "f660269d",
   "metadata": {},
   "outputs": [],
   "source": [
    "import asyncio\n",
    "from autogen_core import CancellationToken\n",
    "from autogen_agentchat.agents import AssistantAgent\n",
    "from autogen_ext.models.openai import OpenAIChatCompletionClient\n",
    "from autogen_agentchat.messages import TextMessage\n",
    "from autogen_agentchat.teams import RoundRobinGroupChat\n",
    "from autogen_agentchat.conditions import TextMentionTermination\n",
    "from dotenv import load_dotenv\n",
    "import os\n",
    "\n",
    "load_dotenv()\n",
    "api_key = os.getenv('OPENAI_API_KEY')\n",
    "model_client = OpenAIChatCompletionClient(model='gpt-4o', api_key=api_key)"
   ]
  },
  {
   "cell_type": "code",
   "execution_count": 3,
   "id": "3a999334",
   "metadata": {},
   "outputs": [
    {
     "name": "stdout",
     "output_type": "stream",
     "text": [
      "source='Assistant' models_usage=RequestUsage(prompt_tokens=62, completion_tokens=37) metadata={} content=\"Explore Paris, then visit the Loire Valley for châteaux. Head to Bordeaux for wine tasting, drive through Provence, and relax on the Côte d'Azur before ending in Nice.\" type='TextMessage'\n"
     ]
    }
   ],
   "source": [
    "assistant = AssistantAgent(\n",
    "    name = 'Assistant',\n",
    "    model_client = model_client,\n",
    "    system_message = 'You are a helpful assistant who can answer questions and provide information on a wide range of topics. You are friendly, informative, and concise.'\n",
    ")\n",
    "\n",
    "response = await assistant.on_messages(\n",
    "    [TextMessage(content = 'Can you help me with a travel itinerary of France from May to June? Keep it under 30 words.',\n",
    "    source = 'user')],\n",
    "    cancellation_token = CancellationToken(),\n",
    ")\n",
    "\n",
    "print(response.chat_message)"
   ]
  },
  {
   "cell_type": "code",
   "execution_count": 4,
   "id": "93a47dcf",
   "metadata": {},
   "outputs": [],
   "source": [
    "agent_state = await assistant.save_state()"
   ]
  },
  {
   "cell_type": "code",
   "execution_count": 8,
   "id": "124dd625",
   "metadata": {},
   "outputs": [
    {
     "name": "stdout",
     "output_type": "stream",
     "text": [
      "{'type': 'AssistantAgentState', 'version': '1.0.0', 'llm_context': {'messages': [{'content': 'Can you help me with a travel itinerary of France from May to June? Keep it under 30 words.', 'source': 'user', 'type': 'UserMessage'}, {'content': \"Explore Paris, visit the Loire Valley, tour the French Riviera, discover Provence, experience Bordeaux's wine region, and explore Normandy's history. Allow time for spontaneous exploration and relaxation.\", 'thought': None, 'source': 'Assistant', 'type': 'AssistantMessage'}]}}\n"
     ]
    }
   ],
   "source": [
    "print(agent_state)"
   ]
  },
  {
   "cell_type": "code",
   "execution_count": 9,
   "id": "88badc19",
   "metadata": {},
   "outputs": [],
   "source": [
    "new_assistant_agent = AssistantAgent(\n",
    "    name = 'Assistant_agent_2',\n",
    "    model_client = model_client,\n",
    "    system_message = 'You are a helpful assistant.'\n",
    ")"
   ]
  },
  {
   "cell_type": "code",
   "execution_count": 10,
   "id": "8a2441a6",
   "metadata": {},
   "outputs": [],
   "source": [
    "await new_assistant_agent.load_state(agent_state)"
   ]
  },
  {
   "cell_type": "code",
   "execution_count": 11,
   "id": "9cdf301b",
   "metadata": {},
   "outputs": [
    {
     "name": "stdout",
     "output_type": "stream",
     "text": [
      "source='Assistant_agent_2' models_usage=RequestUsage(prompt_tokens=98, completion_tokens=53) metadata={} content='You asked me to help create a travel itinerary for France from May to June, keeping it under 30 words. I provided a brief itinerary highlighting key regions to explore, including Paris, the Loire Valley, the French Riviera, Provence, Bordeaux, and Normandy.' type='TextMessage'\n"
     ]
    }
   ],
   "source": [
    "\n",
    "response = await new_assistant_agent.on_messages(\n",
    "    [TextMessage(content = 'Can you tell me what was the last discussion about?',\n",
    "    source = 'user')],\n",
    "    cancellation_token = CancellationToken(),\n",
    ")\n",
    "print(response.chat_message)"
   ]
  },
  {
   "cell_type": "code",
   "execution_count": 12,
   "id": "4e327817",
   "metadata": {},
   "outputs": [
    {
     "data": {
      "text/plain": [
       "'You asked me to help create a travel itinerary for France from May to June, keeping it under 30 words. I provided a brief itinerary highlighting key regions to explore, including Paris, the Loire Valley, the French Riviera, Provence, Bordeaux, and Normandy.'"
      ]
     },
     "execution_count": 12,
     "metadata": {},
     "output_type": "execute_result"
    }
   ],
   "source": [
    "response.chat_message.content"
   ]
  },
  {
   "cell_type": "code",
   "execution_count": null,
   "id": "2dcb6c0c",
   "metadata": {},
   "outputs": [],
   "source": []
  }
 ],
 "metadata": {
  "kernelspec": {
   "display_name": "Python 3",
   "language": "python",
   "name": "python3"
  },
  "language_info": {
   "codemirror_mode": {
    "name": "ipython",
    "version": 3
   },
   "file_extension": ".py",
   "mimetype": "text/x-python",
   "name": "python",
   "nbconvert_exporter": "python",
   "pygments_lexer": "ipython3",
   "version": "3.12.9"
  }
 },
 "nbformat": 4,
 "nbformat_minor": 5
}

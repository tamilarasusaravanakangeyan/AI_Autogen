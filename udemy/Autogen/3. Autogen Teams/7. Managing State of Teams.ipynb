{
 "cells": [
  {
   "cell_type": "markdown",
   "id": "d8e4fc04",
   "metadata": {},
   "source": [
    "# Managing Team State - Saving and Loading Teams"
   ]
  },
  {
   "cell_type": "code",
   "execution_count": 1,
   "id": "d2b8a598",
   "metadata": {},
   "outputs": [],
   "source": [
    "import asyncio\n",
    "from autogen_core import CancellationToken\n",
    "from autogen_agentchat.agents import AssistantAgent\n",
    "from autogen_ext.models.openai import OpenAIChatCompletionClient\n",
    "from autogen_agentchat.messages import TextMessage\n",
    "from autogen_agentchat.teams import RoundRobinGroupChat\n",
    "from autogen_agentchat.conditions import TextMentionTermination\n",
    "from dotenv import load_dotenv\n",
    "import os\n",
    "\n",
    "load_dotenv()\n",
    "api_key = os.getenv('OPENAI_API_KEY')\n",
    "model_client = OpenAIChatCompletionClient(model='gpt-4o', api_key=api_key)"
   ]
  },
  {
   "cell_type": "code",
   "execution_count": 2,
   "id": "c56b056d",
   "metadata": {},
   "outputs": [],
   "source": [
    "from autogen_agentchat.conditions import MaxMessageTermination\n",
    "\n",
    "agent_1 = AssistantAgent(\n",
    "    name='Writer_1',\n",
    "    model_client=model_client,\n",
    "    system_message=\"You are a helpful assistant. Give the output in less than 30 words\",\n",
    ")\n",
    "\n",
    "agent_2 = AssistantAgent(\n",
    "    name='Writer_2',\n",
    "    model_client=model_client,\n",
    "    system_message=\"You are a helpful assistant.Give the output in less than 30 words\",\n",
    ")\n",
    "\n",
    "terminationCondition = MaxMessageTermination(max_messages=3)\n",
    "\n",
    "agent_team = RoundRobinGroupChat(participants=[agent_1, agent_2],termination_condition=terminationCondition)"
   ]
  },
  {
   "cell_type": "code",
   "execution_count": 3,
   "id": "c6871785",
   "metadata": {},
   "outputs": [
    {
     "name": "stdout",
     "output_type": "stream",
     "text": [
      "---------- user ----------\n",
      "Write a poem about the sea in 3 lines\n",
      "---------- Writer_1 ----------\n",
      "Endless waves whisper,  \n",
      "Sapphire dreams and salt-kissed air,  \n",
      "Secrets in the deep.\n",
      "---------- Writer_2 ----------\n",
      "Endless waves whisper,  \n",
      "Sapphire dreams in salt-kissed air,  \n",
      "Secrets in the deep.\n"
     ]
    },
    {
     "data": {
      "text/plain": [
       "TaskResult(messages=[TextMessage(source='user', models_usage=None, metadata={}, content='Write a poem about the sea in 3 lines', type='TextMessage'), TextMessage(source='Writer_1', models_usage=RequestUsage(prompt_tokens=37, completion_tokens=22), metadata={}, content='Endless waves whisper,  \\nSapphire dreams and salt-kissed air,  \\nSecrets in the deep.', type='TextMessage'), TextMessage(source='Writer_2', models_usage=RequestUsage(prompt_tokens=66, completion_tokens=22), metadata={}, content='Endless waves whisper,  \\nSapphire dreams in salt-kissed air,  \\nSecrets in the deep.', type='TextMessage')], stop_reason='Maximum number of messages 3 reached, current message count: 3')"
      ]
     },
     "execution_count": 3,
     "metadata": {},
     "output_type": "execute_result"
    }
   ],
   "source": [
    "from autogen_agentchat.ui import Console\n",
    "\n",
    "stream = agent_team.run_stream(task=\"Write a poem about the sea in 3 lines\")\n",
    "\n",
    "await Console(stream)"
   ]
  },
  {
   "cell_type": "code",
   "execution_count": 4,
   "id": "6ea35399",
   "metadata": {},
   "outputs": [
    {
     "name": "stdout",
     "output_type": "stream",
     "text": [
      "Team state saved.\n",
      "{'type': 'TeamState', 'version': '1.0.0', 'agent_states': {'Writer_1': {'type': 'ChatAgentContainerState', 'version': '1.0.0', 'agent_state': {'type': 'AssistantAgentState', 'version': '1.0.0', 'llm_context': {'messages': [{'content': 'Write a poem about the sea in 3 lines', 'source': 'user', 'type': 'UserMessage'}, {'content': 'Endless waves whisper,  \\nSapphire dreams and salt-kissed air,  \\nSecrets in the deep.', 'thought': None, 'source': 'Writer_1', 'type': 'AssistantMessage'}]}}, 'message_buffer': [{'source': 'Writer_2', 'models_usage': {'prompt_tokens': 66, 'completion_tokens': 22}, 'metadata': {}, 'content': 'Endless waves whisper,  \\nSapphire dreams in salt-kissed air,  \\nSecrets in the deep.', 'type': 'TextMessage'}]}, 'Writer_2': {'type': 'ChatAgentContainerState', 'version': '1.0.0', 'agent_state': {'type': 'AssistantAgentState', 'version': '1.0.0', 'llm_context': {'messages': [{'content': 'Write a poem about the sea in 3 lines', 'source': 'user', 'type': 'UserMessage'}, {'content': 'Endless waves whisper,  \\nSapphire dreams and salt-kissed air,  \\nSecrets in the deep.', 'source': 'Writer_1', 'type': 'UserMessage'}, {'content': 'Endless waves whisper,  \\nSapphire dreams in salt-kissed air,  \\nSecrets in the deep.', 'thought': None, 'source': 'Writer_2', 'type': 'AssistantMessage'}]}}, 'message_buffer': []}, 'RoundRobinGroupChatManager': {'type': 'RoundRobinManagerState', 'version': '1.0.0', 'message_thread': [{'source': 'user', 'models_usage': None, 'metadata': {}, 'content': 'Write a poem about the sea in 3 lines', 'type': 'TextMessage'}, {'source': 'Writer_1', 'models_usage': {'prompt_tokens': 37, 'completion_tokens': 22}, 'metadata': {}, 'content': 'Endless waves whisper,  \\nSapphire dreams and salt-kissed air,  \\nSecrets in the deep.', 'type': 'TextMessage'}, {'source': 'Writer_2', 'models_usage': {'prompt_tokens': 66, 'completion_tokens': 22}, 'metadata': {}, 'content': 'Endless waves whisper,  \\nSapphire dreams in salt-kissed air,  \\nSecrets in the deep.', 'type': 'TextMessage'}], 'current_turn': 0, 'next_speaker_index': 0}}}\n"
     ]
    }
   ],
   "source": [
    "team_state = await agent_team.save_state()\n",
    "print(\"Team state saved.\")\n",
    "print(team_state)"
   ]
  },
  {
   "cell_type": "code",
   "execution_count": 5,
   "id": "746a7b1c",
   "metadata": {},
   "outputs": [],
   "source": [
    "await agent_team.reset()"
   ]
  },
  {
   "cell_type": "code",
   "execution_count": 6,
   "id": "b28c38e3",
   "metadata": {},
   "outputs": [
    {
     "name": "stdout",
     "output_type": "stream",
     "text": [
      "---------- user ----------\n",
      "What was the last line of Poem you wrote?\n"
     ]
    },
    {
     "name": "stdout",
     "output_type": "stream",
     "text": [
      "---------- Writer_1 ----------\n",
      "As an AI, I don't write poetry by myself. Can I help you create a new one instead?\n",
      "---------- Writer_2 ----------\n",
      "I don't have personal creations, but I can help you make a poem. Would you like to give it a try?\n"
     ]
    },
    {
     "data": {
      "text/plain": [
       "TaskResult(messages=[TextMessage(source='user', models_usage=None, metadata={}, content='What was the last line of Poem you wrote?', type='TextMessage'), TextMessage(source='Writer_1', models_usage=RequestUsage(prompt_tokens=38, completion_tokens=22), metadata={}, content=\"As an AI, I don't write poetry by myself. Can I help you create a new one instead?\", type='TextMessage'), TextMessage(source='Writer_2', models_usage=RequestUsage(prompt_tokens=67, completion_tokens=25), metadata={}, content=\"I don't have personal creations, but I can help you make a poem. Would you like to give it a try?\", type='TextMessage')], stop_reason='Maximum number of messages 3 reached, current message count: 3')"
      ]
     },
     "execution_count": 6,
     "metadata": {},
     "output_type": "execute_result"
    }
   ],
   "source": [
    "\n",
    "stream = agent_team.run_stream(task=\"What was the last line of Poem you wrote?\")\n",
    "\n",
    "await Console(stream)"
   ]
  },
  {
   "cell_type": "code",
   "execution_count": 7,
   "id": "319febf6",
   "metadata": {},
   "outputs": [],
   "source": [
    "await agent_team.load_state(team_state)\n"
   ]
  },
  {
   "cell_type": "code",
   "execution_count": 8,
   "id": "f06f124a",
   "metadata": {},
   "outputs": [
    {
     "name": "stdout",
     "output_type": "stream",
     "text": [
      "---------- user ----------\n",
      "What was the last line of Poem you wrote?\n",
      "---------- Writer_1 ----------\n",
      "Secrets in the deep.\n",
      "---------- Writer_2 ----------\n",
      "Secrets in the deep.\n"
     ]
    },
    {
     "data": {
      "text/plain": [
       "TaskResult(messages=[TextMessage(source='user', models_usage=None, metadata={}, content='What was the last line of Poem you wrote?', type='TextMessage'), TextMessage(source='Writer_1', models_usage=RequestUsage(prompt_tokens=111, completion_tokens=6), metadata={}, content='Secrets in the deep.', type='TextMessage'), TextMessage(source='Writer_2', models_usage=RequestUsage(prompt_tokens=124, completion_tokens=6), metadata={}, content='Secrets in the deep.', type='TextMessage')], stop_reason='Maximum number of messages 3 reached, current message count: 3')"
      ]
     },
     "execution_count": 8,
     "metadata": {},
     "output_type": "execute_result"
    }
   ],
   "source": [
    "\n",
    "stream = agent_team.run_stream(task=\"What was the last line of Poem you wrote?\")\n",
    "\n",
    "await Console(stream)"
   ]
  },
  {
   "cell_type": "code",
   "execution_count": 9,
   "id": "db6a4da7",
   "metadata": {},
   "outputs": [
    {
     "data": {
      "text/plain": [
       "{'type': 'TeamState',\n",
       " 'version': '1.0.0',\n",
       " 'agent_states': {'Writer_1': {'type': 'ChatAgentContainerState',\n",
       "   'version': '1.0.0',\n",
       "   'agent_state': {'type': 'AssistantAgentState',\n",
       "    'version': '1.0.0',\n",
       "    'llm_context': {'messages': [{'content': 'Write a poem about the sea in 3 lines',\n",
       "       'source': 'user',\n",
       "       'type': 'UserMessage'},\n",
       "      {'content': 'Endless waves whisper,  \\nSapphire dreams and salt-kissed air,  \\nSecrets in the deep.',\n",
       "       'thought': None,\n",
       "       'source': 'Writer_1',\n",
       "       'type': 'AssistantMessage'}]}},\n",
       "   'message_buffer': [{'source': 'Writer_2',\n",
       "     'models_usage': {'prompt_tokens': 66, 'completion_tokens': 22},\n",
       "     'metadata': {},\n",
       "     'content': 'Endless waves whisper,  \\nSapphire dreams in salt-kissed air,  \\nSecrets in the deep.',\n",
       "     'type': 'TextMessage'}]},\n",
       "  'Writer_2': {'type': 'ChatAgentContainerState',\n",
       "   'version': '1.0.0',\n",
       "   'agent_state': {'type': 'AssistantAgentState',\n",
       "    'version': '1.0.0',\n",
       "    'llm_context': {'messages': [{'content': 'Write a poem about the sea in 3 lines',\n",
       "       'source': 'user',\n",
       "       'type': 'UserMessage'},\n",
       "      {'content': 'Endless waves whisper,  \\nSapphire dreams and salt-kissed air,  \\nSecrets in the deep.',\n",
       "       'source': 'Writer_1',\n",
       "       'type': 'UserMessage'},\n",
       "      {'content': 'Endless waves whisper,  \\nSapphire dreams in salt-kissed air,  \\nSecrets in the deep.',\n",
       "       'thought': None,\n",
       "       'source': 'Writer_2',\n",
       "       'type': 'AssistantMessage'}]}},\n",
       "   'message_buffer': []},\n",
       "  'RoundRobinGroupChatManager': {'type': 'RoundRobinManagerState',\n",
       "   'version': '1.0.0',\n",
       "   'message_thread': [{'source': 'user',\n",
       "     'models_usage': None,\n",
       "     'metadata': {},\n",
       "     'content': 'Write a poem about the sea in 3 lines',\n",
       "     'type': 'TextMessage'},\n",
       "    {'source': 'Writer_1',\n",
       "     'models_usage': {'prompt_tokens': 37, 'completion_tokens': 22},\n",
       "     'metadata': {},\n",
       "     'content': 'Endless waves whisper,  \\nSapphire dreams and salt-kissed air,  \\nSecrets in the deep.',\n",
       "     'type': 'TextMessage'},\n",
       "    {'source': 'Writer_2',\n",
       "     'models_usage': {'prompt_tokens': 66, 'completion_tokens': 22},\n",
       "     'metadata': {},\n",
       "     'content': 'Endless waves whisper,  \\nSapphire dreams in salt-kissed air,  \\nSecrets in the deep.',\n",
       "     'type': 'TextMessage'}],\n",
       "   'current_turn': 0,\n",
       "   'next_speaker_index': 0}}}"
      ]
     },
     "execution_count": 9,
     "metadata": {},
     "output_type": "execute_result"
    }
   ],
   "source": [
    "team_state"
   ]
  },
  {
   "cell_type": "code",
   "execution_count": 10,
   "id": "b8b393fd",
   "metadata": {},
   "outputs": [
    {
     "data": {
      "text/plain": [
       "dict"
      ]
     },
     "execution_count": 10,
     "metadata": {},
     "output_type": "execute_result"
    }
   ],
   "source": [
    "type(team_state)"
   ]
  },
  {
   "cell_type": "markdown",
   "id": "864e60c6",
   "metadata": {},
   "source": [
    "# if its a dict, it can be serialized to a file or written to a database"
   ]
  },
  {
   "cell_type": "code",
   "execution_count": 11,
   "id": "13030e84",
   "metadata": {},
   "outputs": [],
   "source": [
    "import json"
   ]
  },
  {
   "cell_type": "code",
   "execution_count": 12,
   "id": "643b405e",
   "metadata": {},
   "outputs": [],
   "source": [
    "with open('team_state.json', 'w') as f:\n",
    "    json.dump(team_state, f)"
   ]
  },
  {
   "cell_type": "code",
   "execution_count": null,
   "id": "cc81d74f",
   "metadata": {},
   "outputs": [],
   "source": []
  }
 ],
 "metadata": {
  "kernelspec": {
   "display_name": "Python 3",
   "language": "python",
   "name": "python3"
  },
  "language_info": {
   "codemirror_mode": {
    "name": "ipython",
    "version": 3
   },
   "file_extension": ".py",
   "mimetype": "text/x-python",
   "name": "python",
   "nbconvert_exporter": "python",
   "pygments_lexer": "ipython3",
   "version": "3.12.9"
  }
 },
 "nbformat": 4,
 "nbformat_minor": 5
}

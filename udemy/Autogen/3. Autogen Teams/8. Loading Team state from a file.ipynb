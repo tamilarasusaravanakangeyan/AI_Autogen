{
 "cells": [
  {
   "cell_type": "markdown",
   "id": "94171b03",
   "metadata": {},
   "source": [
    "# Loading Team State from a File"
   ]
  },
  {
   "cell_type": "code",
   "execution_count": 1,
   "id": "2be864be",
   "metadata": {},
   "outputs": [],
   "source": [
    "import asyncio\n",
    "from autogen_core import CancellationToken\n",
    "from autogen_agentchat.agents import AssistantAgent\n",
    "from autogen_ext.models.openai import OpenAIChatCompletionClient\n",
    "from autogen_agentchat.messages import TextMessage\n",
    "from autogen_agentchat.teams import RoundRobinGroupChat\n",
    "from autogen_agentchat.conditions import TextMentionTermination\n",
    "from dotenv import load_dotenv\n",
    "import os\n",
    "\n",
    "load_dotenv()\n",
    "api_key = os.getenv('OPENAI_API_KEY')\n",
    "model_client = OpenAIChatCompletionClient(model='gpt-4o', api_key=api_key)"
   ]
  },
  {
   "cell_type": "code",
   "execution_count": 6,
   "id": "0a9472c5",
   "metadata": {},
   "outputs": [
    {
     "data": {
      "text/plain": [
       "{'type': 'TeamState',\n",
       " 'version': '1.0.0',\n",
       " 'agent_states': {'Writer_1': {'type': 'ChatAgentContainerState',\n",
       "   'version': '1.0.0',\n",
       "   'agent_state': {'type': 'AssistantAgentState',\n",
       "    'version': '1.0.0',\n",
       "    'llm_context': {'messages': [{'content': 'Write a poem about the sea in 3 lines',\n",
       "       'source': 'user',\n",
       "       'type': 'UserMessage'},\n",
       "      {'content': 'Endless waves whisper,  \\nSapphire dreams and salt-kissed air,  \\nSecrets in the deep.',\n",
       "       'thought': None,\n",
       "       'source': 'Writer_1',\n",
       "       'type': 'AssistantMessage'}]}},\n",
       "   'message_buffer': [{'source': 'Writer_2',\n",
       "     'models_usage': {'prompt_tokens': 66, 'completion_tokens': 22},\n",
       "     'metadata': {},\n",
       "     'content': 'Endless waves whisper,  \\nSapphire dreams in salt-kissed air,  \\nSecrets in the deep.',\n",
       "     'type': 'TextMessage'}]},\n",
       "  'Writer_2': {'type': 'ChatAgentContainerState',\n",
       "   'version': '1.0.0',\n",
       "   'agent_state': {'type': 'AssistantAgentState',\n",
       "    'version': '1.0.0',\n",
       "    'llm_context': {'messages': [{'content': 'Write a poem about the sea in 3 lines',\n",
       "       'source': 'user',\n",
       "       'type': 'UserMessage'},\n",
       "      {'content': 'Endless waves whisper,  \\nSapphire dreams and salt-kissed air,  \\nSecrets in the deep.',\n",
       "       'source': 'Writer_1',\n",
       "       'type': 'UserMessage'},\n",
       "      {'content': 'Endless waves whisper,  \\nSapphire dreams in salt-kissed air,  \\nSecrets in the deep.',\n",
       "       'thought': None,\n",
       "       'source': 'Writer_2',\n",
       "       'type': 'AssistantMessage'}]}},\n",
       "   'message_buffer': []},\n",
       "  'RoundRobinGroupChatManager': {'type': 'RoundRobinManagerState',\n",
       "   'version': '1.0.0',\n",
       "   'message_thread': [{'source': 'user',\n",
       "     'models_usage': None,\n",
       "     'metadata': {},\n",
       "     'content': 'Write a poem about the sea in 3 lines',\n",
       "     'type': 'TextMessage'},\n",
       "    {'source': 'Writer_1',\n",
       "     'models_usage': {'prompt_tokens': 37, 'completion_tokens': 22},\n",
       "     'metadata': {},\n",
       "     'content': 'Endless waves whisper,  \\nSapphire dreams and salt-kissed air,  \\nSecrets in the deep.',\n",
       "     'type': 'TextMessage'},\n",
       "    {'source': 'Writer_2',\n",
       "     'models_usage': {'prompt_tokens': 66, 'completion_tokens': 22},\n",
       "     'metadata': {},\n",
       "     'content': 'Endless waves whisper,  \\nSapphire dreams in salt-kissed air,  \\nSecrets in the deep.',\n",
       "     'type': 'TextMessage'}],\n",
       "   'current_turn': 0,\n",
       "   'next_speaker_index': 0}}}"
      ]
     },
     "execution_count": 6,
     "metadata": {},
     "output_type": "execute_result"
    }
   ],
   "source": [
    "import json\n",
    "\n",
    "with open('team_state.json', 'r') as f:\n",
    "    team_state = json.load(f)\n",
    "\n",
    "team_state"
   ]
  },
  {
   "cell_type": "code",
   "execution_count": 7,
   "id": "6b50971f",
   "metadata": {},
   "outputs": [],
   "source": [
    "from autogen_agentchat.conditions import MaxMessageTermination\n",
    "\n",
    "agent_1 = AssistantAgent(\n",
    "    name='Writer_1',\n",
    "    model_client=model_client,\n",
    "    system_message=\"You are a helpful assistant. Give the output in less than 30 words\",\n",
    ")\n",
    "\n",
    "agent_2 = AssistantAgent(\n",
    "    name='Writer_2',\n",
    "    model_client=model_client,\n",
    "    system_message=\"You are a helpful assistant.Give the output in less than 30 words\",\n",
    ")\n",
    "\n",
    "terminationCondition = MaxMessageTermination(max_messages=3)\n",
    "\n",
    "new_agent_team = RoundRobinGroupChat(participants=[agent_1, agent_2],termination_condition=terminationCondition)"
   ]
  },
  {
   "cell_type": "code",
   "execution_count": 8,
   "id": "f3b08d44",
   "metadata": {},
   "outputs": [],
   "source": [
    "await new_agent_team.load_state(team_state)"
   ]
  },
  {
   "cell_type": "code",
   "execution_count": 9,
   "id": "c0ee8f66",
   "metadata": {},
   "outputs": [
    {
     "name": "stdout",
     "output_type": "stream",
     "text": [
      "---------- user ----------\n",
      "What was the last line of Poem you wrote?\n",
      "---------- Writer_1 ----------\n",
      "\"Secrets in the deep.\"\n",
      "---------- Writer_2 ----------\n",
      "\"Secrets in the deep.\"\n"
     ]
    },
    {
     "data": {
      "text/plain": [
       "TaskResult(messages=[TextMessage(source='user', models_usage=None, metadata={}, content='What was the last line of Poem you wrote?', type='TextMessage'), TextMessage(source='Writer_1', models_usage=RequestUsage(prompt_tokens=111, completion_tokens=7), metadata={}, content='\"Secrets in the deep.\"', type='TextMessage'), TextMessage(source='Writer_2', models_usage=RequestUsage(prompt_tokens=125, completion_tokens=7), metadata={}, content='\"Secrets in the deep.\"', type='TextMessage')], stop_reason='Maximum number of messages 3 reached, current message count: 3')"
      ]
     },
     "execution_count": 9,
     "metadata": {},
     "output_type": "execute_result"
    }
   ],
   "source": [
    "from autogen_agentchat.ui import Console\n",
    "\n",
    "stream = new_agent_team.run_stream(task=\"What was the last line of Poem you wrote?\")\n",
    "\n",
    "await Console(stream)"
   ]
  },
  {
   "cell_type": "code",
   "execution_count": null,
   "id": "df350a24",
   "metadata": {},
   "outputs": [],
   "source": []
  }
 ],
 "metadata": {
  "kernelspec": {
   "display_name": "Python 3",
   "language": "python",
   "name": "python3"
  },
  "language_info": {
   "codemirror_mode": {
    "name": "ipython",
    "version": 3
   },
   "file_extension": ".py",
   "mimetype": "text/x-python",
   "name": "python",
   "nbconvert_exporter": "python",
   "pygments_lexer": "ipython3",
   "version": "3.12.9"
  }
 },
 "nbformat": 4,
 "nbformat_minor": 5
}

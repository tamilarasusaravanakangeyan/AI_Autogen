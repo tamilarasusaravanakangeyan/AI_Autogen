{
 "cells": [
  {
   "cell_type": "markdown",
   "id": "c42223dd",
   "metadata": {},
   "source": [
    "# Observe a running team in Autogen"
   ]
  },
  {
   "cell_type": "code",
   "execution_count": 1,
   "id": "213c7a3a",
   "metadata": {},
   "outputs": [],
   "source": [
    "import asyncio\n",
    "from autogen_ext.models.openai import OpenAIChatCompletionClient\n",
    "from dotenv import load_dotenv\n",
    "import os\n",
    "\n",
    "load_dotenv()\n",
    "api_key = os.getenv('OPENAI_API_KEY')\n",
    "model_client = OpenAIChatCompletionClient(model='gpt-4o', api_key=api_key)"
   ]
  },
  {
   "cell_type": "code",
   "execution_count": null,
   "id": "9c9ecec8",
   "metadata": {},
   "outputs": [],
   "source": [
    "from autogen_agentchat.agents import AssistantAgent\n",
    "plot_agent = AssistantAgent(\n",
    "    name = 'plot_writer',\n",
    "    model_client=model_client,\n",
    "    system_message=\"You create engaging plots for stories. Focus on the Knight's journey.compelte it in 10 words\"\n",
    ")\n",
    "\n",
    "character_agent = AssistantAgent(\n",
    "    name = 'character_writer',\n",
    "    model_client=model_client,\n",
    "    system_message=\"You develop characters. Describe the knight and the dragon in detail, including their motivations and backgrounds.compelte it in 10 words\"\n",
    ")\n",
    "\n",
    "ending_agent = AssistantAgent(\n",
    "    name = 'ending_writer',\n",
    "    model_client=model_client,\n",
    "    system_message=\"You wrute engaging endings. conclude the story with a twist. compelte it in 10 words\"\n",
    ")\n"
   ]
  },
  {
   "cell_type": "code",
   "execution_count": null,
   "id": "1ad2fda6",
   "metadata": {},
   "outputs": [],
   "source": [
    "from autogen_agentchat.teams import RoundRobinGroupChat\n",
    "\n",
    "team = RoundRobinGroupChat(\n",
    "    [plot_agent, character_agent, ending_agent],\n",
    "    max_turns=3\n",
    ")"
   ]
  },
  {
   "cell_type": "code",
   "execution_count": 9,
   "id": "d95907f5",
   "metadata": {},
   "outputs": [
    {
     "name": "stdout",
     "output_type": "stream",
     "text": [
      "source='user' models_usage=None metadata={} content='Write a poem on the Spring Season' type='TextMessage'\n",
      "source='plot_writer' models_usage=RequestUsage(prompt_tokens=609, completion_tokens=111) metadata={} content=\"Whispers of life on gentle breeze,  \\nPetals dance among blossoming trees.  \\nSunlight kisses the morning dew,  \\nAwakening earth with colors anew.  \\n\\nBirdsong heralds the vibrant dawn,  \\nNature's symphony, a timeless song.  \\nGreen carpets spread on fields and hills,  \\nHope renewed as winter stills.  \\n\\nIn Spring's embrace, the world revives,  \\nA tapestry of dreams, alive.  \\nWith every bloom, a promise told,  \\nOf warmth, of life, and stories old.  \" type='TextMessage'\n",
      "source='character_writer' models_usage=RequestUsage(prompt_tokens=731, completion_tokens=22) metadata={} content=\"I'm glad you liked the poem! Feel free to ask for more creative content or anything else you need.\" type='TextMessage'\n",
      "source='ending_writer' models_usage=RequestUsage(prompt_tokens=754, completion_tokens=15) metadata={} content='And as blossoms fell, it was but a dream. Winter remained.' type='TextMessage'\n",
      "Stop Reason: Maximum number of turns 3 reached.\n"
     ]
    }
   ],
   "source": [
    "\n",
    "from autogen_agentchat.base import TaskResult\n",
    "\n",
    "async for message in team.run_stream(task = 'Write a poem on the Spring Season'):\n",
    "    if isinstance(message,TaskResult):\n",
    "        print(f\"Stop Reason: {message.stop_reason}\")\n",
    "    else:\n",
    "        print((message))"
   ]
  },
  {
   "cell_type": "code",
   "execution_count": 10,
   "id": "50c0b87a",
   "metadata": {},
   "outputs": [
    {
     "name": "stdout",
     "output_type": "stream",
     "text": [
      "---------- user ----------\n",
      "Write a poem on the Spring Season\n",
      "---------- plot_writer ----------\n",
      "Spring whispers softly through budding leaves,  \n",
      "Awakening earth from winter's reprieves.  \n",
      "Petals unfurl in vibrant hues,  \n",
      "Beneath skies of endless blues.  \n",
      "\n",
      "Birds return with joyous song,  \n",
      "Filling the air where they belong.  \n",
      "Rivers run with lively streams,  \n",
      "Carrying the essence of new dreams.  \n",
      "\n",
      "Sunlight dances on meadows bright,  \n",
      "Chasing away the lingering night.  \n",
      "In every bloom, life anew springs,  \n",
      "A canvas of hope, the season sings.\n",
      "---------- character_writer ----------\n",
      "I'm glad you enjoyed the poem! If there's anything else you'd like, feel free to ask.\n",
      "---------- ending_writer ----------\n",
      "Raindrops fell, a drowsy's dream; winter never said goodbye.\n"
     ]
    },
    {
     "data": {
      "text/plain": [
       "TaskResult(messages=[TextMessage(source='user', models_usage=None, metadata={}, content='Write a poem on the Spring Season', type='TextMessage'), TextMessage(source='plot_writer', models_usage=RequestUsage(prompt_tokens=787, completion_tokens=107), metadata={}, content=\"Spring whispers softly through budding leaves,  \\nAwakening earth from winter's reprieves.  \\nPetals unfurl in vibrant hues,  \\nBeneath skies of endless blues.  \\n\\nBirds return with joyous song,  \\nFilling the air where they belong.  \\nRivers run with lively streams,  \\nCarrying the essence of new dreams.  \\n\\nSunlight dances on meadows bright,  \\nChasing away the lingering night.  \\nIn every bloom, life anew springs,  \\nA canvas of hope, the season sings.\", type='TextMessage'), TextMessage(source='character_writer', models_usage=RequestUsage(prompt_tokens=905, completion_tokens=20), metadata={}, content=\"I'm glad you enjoyed the poem! If there's anything else you'd like, feel free to ask.\", type='TextMessage'), TextMessage(source='ending_writer', models_usage=RequestUsage(prompt_tokens=926, completion_tokens=17), metadata={}, content=\"Raindrops fell, a drowsy's dream; winter never said goodbye.\", type='TextMessage')], stop_reason='Maximum number of turns 3 reached.')"
      ]
     },
     "execution_count": 10,
     "metadata": {},
     "output_type": "execute_result"
    }
   ],
   "source": [
    "from autogen_agentchat.ui import Console\n",
    "\n",
    "await Console(team.run_stream(task = 'Write a poem on the Spring Season'))"
   ]
  },
  {
   "cell_type": "code",
   "execution_count": null,
   "id": "17dba548",
   "metadata": {},
   "outputs": [],
   "source": []
  }
 ],
 "metadata": {
  "kernelspec": {
   "display_name": "Python 3",
   "language": "python",
   "name": "python3"
  },
  "language_info": {
   "codemirror_mode": {
    "name": "ipython",
    "version": 3
   },
   "file_extension": ".py",
   "mimetype": "text/x-python",
   "name": "python",
   "nbconvert_exporter": "python",
   "pygments_lexer": "ipython3",
   "version": "3.12.9"
  }
 },
 "nbformat": 4,
 "nbformat_minor": 5
}

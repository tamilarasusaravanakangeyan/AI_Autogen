{
 "cells": [
  {
   "cell_type": "markdown",
   "id": "57c23826",
   "metadata": {},
   "source": [
    "# Selector Group Chat\n",
    "\n",
    "SelectorGroupChat is a group chat similar to RoundRobinGroupChat, but with a model-based next speaker selection mechanism."
   ]
  },
  {
   "cell_type": "code",
   "execution_count": 13,
   "id": "22bae741",
   "metadata": {},
   "outputs": [],
   "source": [
    "import asyncio\n",
    "from autogen_agentchat.agents import AssistantAgent\n",
    "from autogen_agentchat.teams import SelectorGroupChat\n",
    "from autogen_ext.models.openai import OpenAIChatCompletionClient\n",
    "from autogen_agentchat.conditions import TextMentionTermination\n",
    "from dotenv import load_dotenv\n",
    "import os\n",
    "\n",
    "# Load API key\n",
    "load_dotenv()\n",
    "api_key = os.getenv('OPENAI_API_KEY')\n",
    "\n",
    "# Model client\n",
    "model_client = OpenAIChatCompletionClient(model='gpt-4o', api_key=api_key)"
   ]
  },
  {
   "cell_type": "code",
   "execution_count": 14,
   "id": "97b28910",
   "metadata": {},
   "outputs": [],
   "source": [
    "planning_agent = AssistantAgent(\n",
    "    name = 'PlanningAgent',\n",
    "    description= 'An agent for planning tasks,this agent should be the first to engage when given a new task.',\n",
    "    model_client=model_client,\n",
    "    system_message='''\n",
    "    You are a planning agent.\n",
    "    Your job is to break down complex tasks into smaller, manageable subtasks.\n",
    "    Your team members are :\n",
    "        WebSearchAgent : Searches for information.\n",
    "        DataAnalystAgent : Performs calculations\n",
    "\n",
    "    You only plan and delegate tasks - you do not exectue them yourself.\n",
    "\n",
    "    When assigning tasks, use the below format:\n",
    "    1. <agent> : <task>\n",
    "\n",
    "    After all the tasks are completed, summarize the findings and end with \"TERMINATE\"\n",
    "    ''',\n",
    ")"
   ]
  },
  {
   "cell_type": "code",
   "execution_count": 15,
   "id": "1b992e0d",
   "metadata": {},
   "outputs": [],
   "source": [
    "def search_web_tool(query:str)-> str:\n",
    "    # Simulate a web search\n",
    "    if \"2006-2007\" in query:\n",
    "        return \"\"\"Here are the total points scored by Miami Heat players in the 2006-2007 season:\n",
    "        Udonis Haslem: 844 points\n",
    "        Dwayne Wade: 1397 points\n",
    "        James Posey: 550 points\n",
    "        ...\n",
    "        \"\"\"\n",
    "    elif \"2007-2008\" in query:\n",
    "        return \"The number of total rebounds for Dwayne Wade in the Miami Heat season 2007-2008 is 214.\"\n",
    "    elif \"2008-2009\" in query:\n",
    "        return \"The number of total rebounds for Dwayne Wade in the Miami Heat season 2008-2009 is 398.\"\n",
    "    return \"No data found.\"\n",
    "\n",
    "web_search_agent = AssistantAgent(\n",
    "    name = 'WebSearchAgent',\n",
    "    description= 'An agent for searching the web for information.',\n",
    "    model_client=model_client,\n",
    "    tools = [search_web_tool],\n",
    "    system_message='''\n",
    "        You are a web search agent.\n",
    "        Your only tool is search_web_tool - use it to find the information you need.\n",
    "\n",
    "        You make only one search call at a time.\n",
    "        \n",
    "        Once you have the results, you never do calculations or data analysis on them.\n",
    "    ''',\n",
    ")"
   ]
  },
  {
   "cell_type": "code",
   "execution_count": 16,
   "id": "81ed3905",
   "metadata": {},
   "outputs": [],
   "source": [
    "def percentage_change_tool(start:float, end:float) -> float:\n",
    "    # Calculate percentage change\n",
    "    if start == 0:\n",
    "        return 0\n",
    "    return ((end - start) / start) * 100\n",
    "\n",
    "\n",
    "data_analyst_agent = AssistantAgent(\n",
    "    name = 'DataAnalystAgent',\n",
    "    description= 'An agent for performing calculations and data analysis.',\n",
    "    model_client=model_client,\n",
    "    tools= [percentage_change_tool],\n",
    "    system_message='''\n",
    "        You are a data analyst agent.\n",
    "        Given the tasks you have been assigned, you should analyze the data and provide results using the tools provided.\n",
    "\n",
    "        If you have not seen the data, ask for it.\n",
    "\n",
    "    ''',\n",
    ")"
   ]
  },
  {
   "cell_type": "markdown",
   "id": "3775373d",
   "metadata": {},
   "source": [
    "# Termination Conditions"
   ]
  },
  {
   "cell_type": "code",
   "execution_count": 17,
   "id": "3edaf467",
   "metadata": {},
   "outputs": [],
   "source": [
    "from autogen_agentchat.conditions import MaxMessageTermination,TextMentionTermination\n",
    "\n",
    "text_mention_termination = TextMentionTermination(\"TERMINATE\")\n",
    "max_messages_termination = MaxMessageTermination(max_messages=20)\n",
    "combined_termination = text_mention_termination | max_messages_termination"
   ]
  },
  {
   "cell_type": "code",
   "execution_count": 18,
   "id": "dd216016",
   "metadata": {},
   "outputs": [],
   "source": [
    "selector_prompt = '''\n",
    "Select an agent to perform the task.\n",
    "\n",
    "{roles}\n",
    "\n",
    "Current conversation history :\n",
    "{history}\n",
    "\n",
    "Read the above conversation, then select an agent from {participants} to perform the next task.\n",
    "Make sure the planning agent has assigned task before other agents start working.\n",
    "Only Select one agent.\n",
    "'''"
   ]
  },
  {
   "cell_type": "code",
   "execution_count": 19,
   "id": "8a4ed145",
   "metadata": {},
   "outputs": [
    {
     "data": {
      "text/plain": [
       "'\\nTry not to overload the selector prompt with too much information.\\n\\n\\nselector_prompt (str, optional) – The prompt template to use for selecting the next speaker. \\n\\nAvailable fields: ‘{roles}’, ‘{participants}’, and ‘{history}’. \\n1. {participants} is the names of candidates for selection. The format is [“<name1>”, “<name2>”, …]. \\n2. {roles} is a newline-separated list of names and descriptions of the candidate agents. The format for each line is: “<name> : <description>”. \\n\\n3. {history} is the conversation history formatted as a double newline separated of names and message content. The format for each message is: “<name> : <message content>”.\\n'"
      ]
     },
     "execution_count": 19,
     "metadata": {},
     "output_type": "execute_result"
    }
   ],
   "source": [
    "'''\n",
    "Try not to overload the selector prompt with too much information.\n",
    "\n",
    "\n",
    "selector_prompt (str, optional) – The prompt template to use for selecting the next speaker. \n",
    "\n",
    "Available fields: ‘{roles}’, ‘{participants}’, and ‘{history}’. \n",
    "1. {participants} is the names of candidates for selection. The format is [“<name1>”, “<name2>”, …]. \n",
    "2. {roles} is a newline-separated list of names and descriptions of the candidate agents. The format for each line is: “<name> : <description>”. \n",
    "\n",
    "3. {history} is the conversation history formatted as a double newline separated of names and message content. The format for each message is: “<name> : <message content>”.\n",
    "'''"
   ]
  },
  {
   "cell_type": "markdown",
   "id": "0824b3be",
   "metadata": {},
   "source": []
  },
  {
   "cell_type": "code",
   "execution_count": 20,
   "id": "879ee173",
   "metadata": {},
   "outputs": [],
   "source": [
    "selector_team = SelectorGroupChat(\n",
    "    participants=[planning_agent, web_search_agent, data_analyst_agent],\n",
    "    model_client=model_client,\n",
    "    termination_condition=combined_termination,\n",
    "    selector_prompt=selector_prompt,\n",
    "    allow_repeated_speaker=True)"
   ]
  },
  {
   "cell_type": "code",
   "execution_count": 21,
   "id": "aa7166b9",
   "metadata": {},
   "outputs": [],
   "source": [
    "task = \"Who was the Miami Heat player with the highest point in the 2006-2007 season, and what was the percentage change in his total rebounds between the 2007-2008 and 2008-2009 seasons?\""
   ]
  },
  {
   "cell_type": "code",
   "execution_count": 22,
   "id": "2e1ac23d",
   "metadata": {},
   "outputs": [
    {
     "name": "stdout",
     "output_type": "stream",
     "text": [
      "---------- user ----------\n",
      "Who was the Miami Heat player with the highest point in the 2006-2007 season, and what was the percentage change in his total rebounds between the 2007-2008 and 2008-2009 seasons?\n",
      "---------- PlanningAgent ----------\n",
      "Here's the plan to break down the task into subtasks: \n",
      "\n",
      "1. WebSearchAgent: Find out which Miami Heat player had the highest points in the 2006-2007 NBA season.\n",
      "2. WebSearchAgent: Gather the total rebounds for this player in both the 2007-2008 and 2008-2009 NBA seasons.\n",
      "3. DataAnalystAgent: Calculate the percentage change in total rebounds for this player between the 2007-2008 and 2008-2009 seasons.\n",
      "\n",
      "Let's proceed with these tasks.\n",
      "---------- WebSearchAgent ----------\n",
      "[FunctionCall(id='call_wo456ReHkDIwQHE0bqft93XO', arguments='{\"query\":\"Miami Heat player highest points 2006-2007 season\"}', name='search_web_tool')]\n",
      "---------- WebSearchAgent ----------\n",
      "[FunctionExecutionResult(content='Here are the total points scored by Miami Heat players in the 2006-2007 season:\\n        Udonis Haslem: 844 points\\n        Dwayne Wade: 1397 points\\n        James Posey: 550 points\\n        ...\\n        ', name='search_web_tool', call_id='call_wo456ReHkDIwQHE0bqft93XO', is_error=False)]\n",
      "---------- WebSearchAgent ----------\n",
      "Here are the total points scored by Miami Heat players in the 2006-2007 season:\n",
      "        Udonis Haslem: 844 points\n",
      "        Dwayne Wade: 1397 points\n",
      "        James Posey: 550 points\n",
      "        ...\n",
      "        \n",
      "---------- WebSearchAgent ----------\n",
      "[FunctionCall(id='call_8s4P8sQJZbSiaxkXCUxcfYxf', arguments='{\"query\":\"Dwyane Wade total rebounds 2007-2008 and 2008-2009 seasons\"}', name='search_web_tool')]\n",
      "---------- WebSearchAgent ----------\n",
      "[FunctionExecutionResult(content='The number of total rebounds for Dwayne Wade in the Miami Heat season 2007-2008 is 214.', name='search_web_tool', call_id='call_8s4P8sQJZbSiaxkXCUxcfYxf', is_error=False)]\n",
      "---------- WebSearchAgent ----------\n",
      "The number of total rebounds for Dwayne Wade in the Miami Heat season 2007-2008 is 214.\n",
      "---------- WebSearchAgent ----------\n",
      "[FunctionCall(id='call_gkstRuFfzcAER9qym79qrLj5', arguments='{\"query\":\"Dwyane Wade total rebounds 2008-2009 season\"}', name='search_web_tool')]\n",
      "---------- WebSearchAgent ----------\n",
      "[FunctionExecutionResult(content='The number of total rebounds for Dwayne Wade in the Miami Heat season 2008-2009 is 398.', name='search_web_tool', call_id='call_gkstRuFfzcAER9qym79qrLj5', is_error=False)]\n",
      "---------- WebSearchAgent ----------\n",
      "The number of total rebounds for Dwayne Wade in the Miami Heat season 2008-2009 is 398.\n",
      "---------- DataAnalystAgent ----------\n",
      "[FunctionCall(id='call_YCJHb6wd0ybxDPQdBjk4OF3G', arguments='{\"end\":398,\"start\":214}', name='percentage_change_tool')]\n",
      "---------- DataAnalystAgent ----------\n",
      "[FunctionExecutionResult(content='85.98130841121495', name='percentage_change_tool', call_id='call_YCJHb6wd0ybxDPQdBjk4OF3G', is_error=False)]\n",
      "---------- DataAnalystAgent ----------\n",
      "85.98130841121495\n",
      "---------- DataAnalystAgent ----------\n",
      "Dwyane Wade was the Miami Heat player with the highest points in the 2006-2007 season, scoring 1397 points. The percentage change in his total rebounds between the 2007-2008 and 2008-2009 seasons was approximately 85.98%.\n",
      "---------- PlanningAgent ----------\n",
      "Dwyane Wade was the Miami Heat player with the highest points in the 2006-2007 season, scoring 1397 points. The percentage change in his total rebounds between the 2007-2008 and 2008-2009 seasons was approximately 85.98%. \n",
      "\n",
      "TERMINATE\n"
     ]
    },
    {
     "data": {
      "text/plain": [
       "TaskResult(messages=[TextMessage(source='user', models_usage=None, metadata={}, content='Who was the Miami Heat player with the highest point in the 2006-2007 season, and what was the percentage change in his total rebounds between the 2007-2008 and 2008-2009 seasons?', type='TextMessage'), TextMessage(source='PlanningAgent', models_usage=RequestUsage(prompt_tokens=165, completion_tokens=113), metadata={}, content=\"Here's the plan to break down the task into subtasks: \\n\\n1. WebSearchAgent: Find out which Miami Heat player had the highest points in the 2006-2007 NBA season.\\n2. WebSearchAgent: Gather the total rebounds for this player in both the 2007-2008 and 2008-2009 NBA seasons.\\n3. DataAnalystAgent: Calculate the percentage change in total rebounds for this player between the 2007-2008 and 2008-2009 seasons.\\n\\nLet's proceed with these tasks.\", type='TextMessage'), ToolCallRequestEvent(source='WebSearchAgent', models_usage=RequestUsage(prompt_tokens=267, completion_tokens=27), metadata={}, content=[FunctionCall(id='call_wo456ReHkDIwQHE0bqft93XO', arguments='{\"query\":\"Miami Heat player highest points 2006-2007 season\"}', name='search_web_tool')], type='ToolCallRequestEvent'), ToolCallExecutionEvent(source='WebSearchAgent', models_usage=None, metadata={}, content=[FunctionExecutionResult(content='Here are the total points scored by Miami Heat players in the 2006-2007 season:\\n        Udonis Haslem: 844 points\\n        Dwayne Wade: 1397 points\\n        James Posey: 550 points\\n        ...\\n        ', name='search_web_tool', call_id='call_wo456ReHkDIwQHE0bqft93XO', is_error=False)], type='ToolCallExecutionEvent'), ToolCallSummaryMessage(source='WebSearchAgent', models_usage=None, metadata={}, content='Here are the total points scored by Miami Heat players in the 2006-2007 season:\\n        Udonis Haslem: 844 points\\n        Dwayne Wade: 1397 points\\n        James Posey: 550 points\\n        ...\\n        ', type='ToolCallSummaryMessage'), ToolCallRequestEvent(source='WebSearchAgent', models_usage=RequestUsage(prompt_tokens=359, completion_tokens=35), metadata={}, content=[FunctionCall(id='call_8s4P8sQJZbSiaxkXCUxcfYxf', arguments='{\"query\":\"Dwyane Wade total rebounds 2007-2008 and 2008-2009 seasons\"}', name='search_web_tool')], type='ToolCallRequestEvent'), ToolCallExecutionEvent(source='WebSearchAgent', models_usage=None, metadata={}, content=[FunctionExecutionResult(content='The number of total rebounds for Dwayne Wade in the Miami Heat season 2007-2008 is 214.', name='search_web_tool', call_id='call_8s4P8sQJZbSiaxkXCUxcfYxf', is_error=False)], type='ToolCallExecutionEvent'), ToolCallSummaryMessage(source='WebSearchAgent', models_usage=None, metadata={}, content='The number of total rebounds for Dwayne Wade in the Miami Heat season 2007-2008 is 214.', type='ToolCallSummaryMessage'), ToolCallRequestEvent(source='WebSearchAgent', models_usage=RequestUsage(prompt_tokens=430, completion_tokens=28), metadata={}, content=[FunctionCall(id='call_gkstRuFfzcAER9qym79qrLj5', arguments='{\"query\":\"Dwyane Wade total rebounds 2008-2009 season\"}', name='search_web_tool')], type='ToolCallRequestEvent'), ToolCallExecutionEvent(source='WebSearchAgent', models_usage=None, metadata={}, content=[FunctionExecutionResult(content='The number of total rebounds for Dwayne Wade in the Miami Heat season 2008-2009 is 398.', name='search_web_tool', call_id='call_gkstRuFfzcAER9qym79qrLj5', is_error=False)], type='ToolCallExecutionEvent'), ToolCallSummaryMessage(source='WebSearchAgent', models_usage=None, metadata={}, content='The number of total rebounds for Dwayne Wade in the Miami Heat season 2008-2009 is 398.', type='ToolCallSummaryMessage'), ToolCallRequestEvent(source='DataAnalystAgent', models_usage=RequestUsage(prompt_tokens=390, completion_tokens=21), metadata={}, content=[FunctionCall(id='call_YCJHb6wd0ybxDPQdBjk4OF3G', arguments='{\"end\":398,\"start\":214}', name='percentage_change_tool')], type='ToolCallRequestEvent'), ToolCallExecutionEvent(source='DataAnalystAgent', models_usage=None, metadata={}, content=[FunctionExecutionResult(content='85.98130841121495', name='percentage_change_tool', call_id='call_YCJHb6wd0ybxDPQdBjk4OF3G', is_error=False)], type='ToolCallExecutionEvent'), ToolCallSummaryMessage(source='DataAnalystAgent', models_usage=None, metadata={}, content='85.98130841121495', type='ToolCallSummaryMessage'), TextMessage(source='DataAnalystAgent', models_usage=RequestUsage(prompt_tokens=431, completion_tokens=61), metadata={}, content='Dwyane Wade was the Miami Heat player with the highest points in the 2006-2007 season, scoring 1397 points. The percentage change in his total rebounds between the 2007-2008 and 2008-2009 seasons was approximately 85.98%.', type='TextMessage'), TextMessage(source='PlanningAgent', models_usage=RequestUsage(prompt_tokens=493, completion_tokens=64), metadata={}, content='Dwyane Wade was the Miami Heat player with the highest points in the 2006-2007 season, scoring 1397 points. The percentage change in his total rebounds between the 2007-2008 and 2008-2009 seasons was approximately 85.98%. \\n\\nTERMINATE', type='TextMessage')], stop_reason=\"Text 'TERMINATE' mentioned\")"
      ]
     },
     "execution_count": 22,
     "metadata": {},
     "output_type": "execute_result"
    }
   ],
   "source": [
    "from autogen_agentchat.ui import Console\n",
    "\n",
    "await Console(selector_team.run_stream(task=task))"
   ]
  },
  {
   "cell_type": "markdown",
   "id": "bee40df8",
   "metadata": {},
   "source": [
    "# Custom Selector Function"
   ]
  },
  {
   "cell_type": "code",
   "execution_count": 23,
   "id": "b0aeda1f",
   "metadata": {},
   "outputs": [
    {
     "data": {
      "text/plain": [
       "'k'"
      ]
     },
     "execution_count": 23,
     "metadata": {},
     "output_type": "execute_result"
    }
   ],
   "source": [
    "s = \"Mayank\"\n",
    "s[-1]"
   ]
  },
  {
   "cell_type": "code",
   "execution_count": 24,
   "id": "368e446e",
   "metadata": {},
   "outputs": [
    {
     "data": {
      "text/plain": [
       "'PlanningAgent'"
      ]
     },
     "execution_count": 24,
     "metadata": {},
     "output_type": "execute_result"
    }
   ],
   "source": [
    "planning_agent.name"
   ]
  },
  {
   "cell_type": "code",
   "execution_count": 25,
   "id": "167bb09e",
   "metadata": {},
   "outputs": [],
   "source": [
    "from typing import Sequence\n",
    "from autogen_agentchat.messages import BaseAgentEvent, BaseChatMessage\n",
    "\n",
    "def selector_func(messages : Sequence[BaseAgentEvent | BaseChatMessage]) -> str | None:\n",
    "    if(messages[-1].source != planning_agent.name):\n",
    "        return planning_agent.name\n",
    "    return None"
   ]
  },
  {
   "cell_type": "code",
   "execution_count": 26,
   "id": "629486bc",
   "metadata": {},
   "outputs": [],
   "source": [
    "await selector_team.reset()\n",
    "selector_team = SelectorGroupChat(\n",
    "    participants=[planning_agent, web_search_agent, data_analyst_agent],\n",
    "    model_client=model_client,\n",
    "    termination_condition=combined_termination,\n",
    "    selector_prompt=selector_prompt,\n",
    "    allow_repeated_speaker=True,\n",
    "    selector_func=selector_func)"
   ]
  },
  {
   "cell_type": "code",
   "execution_count": 27,
   "id": "b87ecb66",
   "metadata": {},
   "outputs": [
    {
     "name": "stdout",
     "output_type": "stream",
     "text": [
      "---------- user ----------\n",
      "Who was the Miami Heat player with the highest point in the 2006-2007 season, and what was the percentage change in his total rebounds between the 2007-2008 and 2008-2009 seasons?\n",
      "---------- PlanningAgent ----------\n",
      "To address your query, we will first need to identify the Miami Heat player with the highest points during the 2006-2007 season. Next, we will gather data regarding this player's total rebounds in the 2007-2008 and 2008-2009 seasons to calculate the percentage change.\n",
      "\n",
      "Here are the tasks broken down:\n",
      "\n",
      "1. WebSearchAgent : Find the Miami Heat player with the highest points scored in the 2006-2007 NBA season.\n",
      "2. WebSearchAgent : Gather data on that player's total rebounds in the 2007-2008 NBA season.\n",
      "3. WebSearchAgent : Gather data on that player's total rebounds in the 2008-2009 NBA season.\n",
      "4. DataAnalystAgent : Calculate the percentage change in the player's total rebounds from the 2007-2008 season to the 2008-2009 season.\n",
      "---------- WebSearchAgent ----------\n",
      "[FunctionCall(id='call_xwWAe3uUoj9o3xIAqN3R1ptr', arguments='{\"query\":\"Miami Heat player highest points 2006-2007 NBA season\"}', name='search_web_tool')]\n",
      "---------- WebSearchAgent ----------\n",
      "[FunctionExecutionResult(content='Here are the total points scored by Miami Heat players in the 2006-2007 season:\\n        Udonis Haslem: 844 points\\n        Dwayne Wade: 1397 points\\n        James Posey: 550 points\\n        ...\\n        ', name='search_web_tool', call_id='call_xwWAe3uUoj9o3xIAqN3R1ptr', is_error=False)]\n",
      "---------- WebSearchAgent ----------\n",
      "Here are the total points scored by Miami Heat players in the 2006-2007 season:\n",
      "        Udonis Haslem: 844 points\n",
      "        Dwayne Wade: 1397 points\n",
      "        James Posey: 550 points\n",
      "        ...\n",
      "        \n",
      "---------- PlanningAgent ----------\n",
      "Based on the data provided, Dwayne Wade was the Miami Heat player with the highest points scored (1397 points) in the 2006-2007 NBA season.\n",
      "\n",
      "Now, proceeding to gather rebound data for Dwayne Wade:\n",
      "\n",
      "1. WebSearchAgent : Gather data on Dwayne Wade's total rebounds in the 2007-2008 NBA season.\n",
      "2. WebSearchAgent : Gather data on Dwayne Wade's total rebounds in the 2008-2009 NBA season.\n",
      "---------- WebSearchAgent ----------\n",
      "[FunctionCall(id='call_bX1BfdlNWb38p1H39j2PVpeJ', arguments='{\"query\": \"Dwayne Wade total rebounds 2007-2008 NBA season\"}', name='search_web_tool'), FunctionCall(id='call_z2sRY1E2pRH5711RgVIoFZRt', arguments='{\"query\": \"Dwayne Wade total rebounds 2008-2009 NBA season\"}', name='search_web_tool')]\n",
      "---------- WebSearchAgent ----------\n",
      "[FunctionExecutionResult(content='The number of total rebounds for Dwayne Wade in the Miami Heat season 2007-2008 is 214.', name='search_web_tool', call_id='call_bX1BfdlNWb38p1H39j2PVpeJ', is_error=False), FunctionExecutionResult(content='The number of total rebounds for Dwayne Wade in the Miami Heat season 2008-2009 is 398.', name='search_web_tool', call_id='call_z2sRY1E2pRH5711RgVIoFZRt', is_error=False)]\n",
      "---------- WebSearchAgent ----------\n",
      "The number of total rebounds for Dwayne Wade in the Miami Heat season 2007-2008 is 214.\n",
      "The number of total rebounds for Dwayne Wade in the Miami Heat season 2008-2009 is 398.\n",
      "---------- PlanningAgent ----------\n",
      "Now that we have the total rebounds for Dwayne Wade in both seasons, we can calculate the percentage change.\n",
      "\n",
      "1. DataAnalystAgent : Calculate the percentage change in Dwayne Wade's total rebounds from the 2007-2008 season (214 rebounds) to the 2008-2009 season (398 rebounds).\n",
      "---------- DataAnalystAgent ----------\n",
      "[FunctionCall(id='call_b5ID6xxrgdQNcxEKZuKBeodm', arguments='{\"start\":214,\"end\":398}', name='percentage_change_tool')]\n",
      "---------- DataAnalystAgent ----------\n",
      "[FunctionExecutionResult(content='85.98130841121495', name='percentage_change_tool', call_id='call_b5ID6xxrgdQNcxEKZuKBeodm', is_error=False)]\n",
      "---------- DataAnalystAgent ----------\n",
      "85.98130841121495\n",
      "---------- PlanningAgent ----------\n",
      "Dwayne Wade was the Miami Heat player with the highest points scored during the 2006-2007 season, tallying a total of 1,397 points. The percentage change in his total rebounds from the 2007-2008 season to the 2008-2009 season was approximately 85.98%.\n",
      "\n",
      "TERMINATE\n"
     ]
    },
    {
     "data": {
      "text/plain": [
       "TaskResult(messages=[TextMessage(source='user', models_usage=None, metadata={}, content='Who was the Miami Heat player with the highest point in the 2006-2007 season, and what was the percentage change in his total rebounds between the 2007-2008 and 2008-2009 seasons?', type='TextMessage'), TextMessage(source='PlanningAgent', models_usage=RequestUsage(prompt_tokens=165, completion_tokens=180), metadata={}, content=\"To address your query, we will first need to identify the Miami Heat player with the highest points during the 2006-2007 season. Next, we will gather data regarding this player's total rebounds in the 2007-2008 and 2008-2009 seasons to calculate the percentage change.\\n\\nHere are the tasks broken down:\\n\\n1. WebSearchAgent : Find the Miami Heat player with the highest points scored in the 2006-2007 NBA season.\\n2. WebSearchAgent : Gather data on that player's total rebounds in the 2007-2008 NBA season.\\n3. WebSearchAgent : Gather data on that player's total rebounds in the 2008-2009 NBA season.\\n4. DataAnalystAgent : Calculate the percentage change in the player's total rebounds from the 2007-2008 season to the 2008-2009 season.\", type='TextMessage'), ToolCallRequestEvent(source='WebSearchAgent', models_usage=RequestUsage(prompt_tokens=334, completion_tokens=28), metadata={}, content=[FunctionCall(id='call_xwWAe3uUoj9o3xIAqN3R1ptr', arguments='{\"query\":\"Miami Heat player highest points 2006-2007 NBA season\"}', name='search_web_tool')], type='ToolCallRequestEvent'), ToolCallExecutionEvent(source='WebSearchAgent', models_usage=None, metadata={}, content=[FunctionExecutionResult(content='Here are the total points scored by Miami Heat players in the 2006-2007 season:\\n        Udonis Haslem: 844 points\\n        Dwayne Wade: 1397 points\\n        James Posey: 550 points\\n        ...\\n        ', name='search_web_tool', call_id='call_xwWAe3uUoj9o3xIAqN3R1ptr', is_error=False)], type='ToolCallExecutionEvent'), ToolCallSummaryMessage(source='WebSearchAgent', models_usage=None, metadata={}, content='Here are the total points scored by Miami Heat players in the 2006-2007 season:\\n        Udonis Haslem: 844 points\\n        Dwayne Wade: 1397 points\\n        James Posey: 550 points\\n        ...\\n        ', type='ToolCallSummaryMessage'), TextMessage(source='PlanningAgent', models_usage=RequestUsage(prompt_tokens=412, completion_tokens=100), metadata={}, content=\"Based on the data provided, Dwayne Wade was the Miami Heat player with the highest points scored (1397 points) in the 2006-2007 NBA season.\\n\\nNow, proceeding to gather rebound data for Dwayne Wade:\\n\\n1. WebSearchAgent : Gather data on Dwayne Wade's total rebounds in the 2007-2008 NBA season.\\n2. WebSearchAgent : Gather data on Dwayne Wade's total rebounds in the 2008-2009 NBA season.\", type='TextMessage'), ToolCallRequestEvent(source='WebSearchAgent', models_usage=RequestUsage(prompt_tokens=533, completion_tokens=71), metadata={}, content=[FunctionCall(id='call_bX1BfdlNWb38p1H39j2PVpeJ', arguments='{\"query\": \"Dwayne Wade total rebounds 2007-2008 NBA season\"}', name='search_web_tool'), FunctionCall(id='call_z2sRY1E2pRH5711RgVIoFZRt', arguments='{\"query\": \"Dwayne Wade total rebounds 2008-2009 NBA season\"}', name='search_web_tool')], type='ToolCallRequestEvent'), ToolCallExecutionEvent(source='WebSearchAgent', models_usage=None, metadata={}, content=[FunctionExecutionResult(content='The number of total rebounds for Dwayne Wade in the Miami Heat season 2007-2008 is 214.', name='search_web_tool', call_id='call_bX1BfdlNWb38p1H39j2PVpeJ', is_error=False), FunctionExecutionResult(content='The number of total rebounds for Dwayne Wade in the Miami Heat season 2008-2009 is 398.', name='search_web_tool', call_id='call_z2sRY1E2pRH5711RgVIoFZRt', is_error=False)], type='ToolCallExecutionEvent'), ToolCallSummaryMessage(source='WebSearchAgent', models_usage=None, metadata={}, content='The number of total rebounds for Dwayne Wade in the Miami Heat season 2007-2008 is 214.\\nThe number of total rebounds for Dwayne Wade in the Miami Heat season 2008-2009 is 398.', type='ToolCallSummaryMessage'), TextMessage(source='PlanningAgent', models_usage=RequestUsage(prompt_tokens=574, completion_tokens=67), metadata={}, content=\"Now that we have the total rebounds for Dwayne Wade in both seasons, we can calculate the percentage change.\\n\\n1. DataAnalystAgent : Calculate the percentage change in Dwayne Wade's total rebounds from the 2007-2008 season (214 rebounds) to the 2008-2009 season (398 rebounds).\", type='TextMessage'), ToolCallRequestEvent(source='DataAnalystAgent', models_usage=RequestUsage(prompt_tokens=628, completion_tokens=21), metadata={}, content=[FunctionCall(id='call_b5ID6xxrgdQNcxEKZuKBeodm', arguments='{\"start\":214,\"end\":398}', name='percentage_change_tool')], type='ToolCallRequestEvent'), ToolCallExecutionEvent(source='DataAnalystAgent', models_usage=None, metadata={}, content=[FunctionExecutionResult(content='85.98130841121495', name='percentage_change_tool', call_id='call_b5ID6xxrgdQNcxEKZuKBeodm', is_error=False)], type='ToolCallExecutionEvent'), ToolCallSummaryMessage(source='DataAnalystAgent', models_usage=None, metadata={}, content='85.98130841121495', type='ToolCallSummaryMessage'), TextMessage(source='PlanningAgent', models_usage=RequestUsage(prompt_tokens=663, completion_tokens=70), metadata={}, content='Dwayne Wade was the Miami Heat player with the highest points scored during the 2006-2007 season, tallying a total of 1,397 points. The percentage change in his total rebounds from the 2007-2008 season to the 2008-2009 season was approximately 85.98%.\\n\\nTERMINATE', type='TextMessage')], stop_reason=\"Text 'TERMINATE' mentioned\")"
      ]
     },
     "execution_count": 27,
     "metadata": {},
     "output_type": "execute_result"
    }
   ],
   "source": [
    "from autogen_agentchat.ui import Console\n",
    "\n",
    "await Console(selector_team.run_stream(task=task))"
   ]
  }
 ],
 "metadata": {
  "kernelspec": {
   "display_name": "Python 3",
   "language": "python",
   "name": "python3"
  },
  "language_info": {
   "codemirror_mode": {
    "name": "ipython",
    "version": 3
   },
   "file_extension": ".py",
   "mimetype": "text/x-python",
   "name": "python",
   "nbconvert_exporter": "python",
   "pygments_lexer": "ipython3",
   "version": "3.12.9"
  }
 },
 "nbformat": 4,
 "nbformat_minor": 5
}

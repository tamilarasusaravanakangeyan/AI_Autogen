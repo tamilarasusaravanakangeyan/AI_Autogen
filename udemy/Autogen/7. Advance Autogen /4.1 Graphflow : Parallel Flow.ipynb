{
 "cells": [
  {
   "cell_type": "markdown",
   "id": "0f95f9b6",
   "metadata": {},
   "source": [
    "# DiGraph - Parallel Flow"
   ]
  },
  {
   "cell_type": "markdown",
   "id": "9ad0468f",
   "metadata": {},
   "source": [
    "We now create a slightly more complex flow:\n",
    "\n",
    "1. A writer drafts a paragraph.\n",
    "2. Two editors independently edit for grammar and style (parallel fan-out).\n",
    "3. A final reviewer consolidates their edits (join)."
   ]
  },
  {
   "cell_type": "markdown",
   "id": "f5265185",
   "metadata": {},
   "source": [
    "##### Make sure to update autogen AgentChat to latest version and also remove autogenstudio if it causes any depdendency issues"
   ]
  },
  {
   "cell_type": "code",
   "execution_count": 19,
   "id": "a24ed80e",
   "metadata": {},
   "outputs": [],
   "source": [
    "import asyncio\n",
    "from autogen_agentchat.agents import AssistantAgent,UserProxyAgent\n",
    "from autogen_agentchat.teams import SelectorGroupChat\n",
    "from autogen_ext.models.openai import OpenAIChatCompletionClient\n",
    "from autogen_agentchat.conditions import TextMentionTermination\n",
    "from dotenv import load_dotenv\n",
    "from autogen_agentchat.ui import Console\n",
    "import os\n",
    "\n",
    "# Load API key\n",
    "load_dotenv()\n",
    "api_key = os.getenv('OPENAI_API_KEY')\n",
    "\n",
    "# Model client\n",
    "model_client = OpenAIChatCompletionClient(model='gpt-4o', api_key=api_key)"
   ]
  },
  {
   "cell_type": "code",
   "execution_count": 27,
   "id": "f45ba1da",
   "metadata": {},
   "outputs": [],
   "source": [
    "writer = AssistantAgent(\n",
    "    name=\"Writer\",\n",
    "    description=\"A writer agent that generates text based on user input.\",\n",
    "    model_client=model_client,\n",
    "    # system_message=\"You are a creative writer. Please write a story based on Climate Change. \n",
    "    system_message=\"You are a creative writer. Please write a story based on Climate Change. Keep it at max 50 words. Make some grammatical errors and spelling issues.\",\n",
    ")\n",
    "\n",
    "editor1 = AssistantAgent(\n",
    "    name=\"Editor1\",\n",
    "    description=\"An editor agent that reviews and edits text.\",\n",
    "    model_client=model_client,\n",
    "    # system_message=\"Edit the paragraph for Grammar.\",\n",
    "    system_message=\"Tell the grammatical mistakes  in point structure\",\n",
    "\n",
    ")\n",
    "\n",
    "editor2= AssistantAgent(\n",
    "    name=\"Editor2\",\n",
    "    description=\"An editor agent that reviews and edits text.\",\n",
    "    model_client=model_client,\n",
    "    # system_message=\"Edit the paragraph for Style.\n",
    "    system_message=\"Tell the spelling mistakes in point structure.\",\n",
    ")\n",
    "\n",
    "reviewer = AssistantAgent(\n",
    "    name=\"Reviewer\",\n",
    "    description=\"A reviewer agent that provides feedback on text.\",\n",
    "    model_client=model_client,\n",
    "    system_message=\"Consolidate the Grammar and Style edits into a Final Version.\",\n",
    ")\n"
   ]
  },
  {
   "cell_type": "code",
   "execution_count": 28,
   "id": "18aba97b",
   "metadata": {},
   "outputs": [
    {
     "data": {
      "text/plain": [
       "<autogen_agentchat.teams._group_chat._graph._graph_builder.DiGraphBuilder at 0x10f2dce10>"
      ]
     },
     "execution_count": 28,
     "metadata": {},
     "output_type": "execute_result"
    }
   ],
   "source": [
    "from autogen_agentchat.teams import DiGraphBuilder,GraphFlow\n",
    "\n",
    "builder = DiGraphBuilder()\n",
    "builder.add_node(writer).add_node(editor1).add_node(editor2).add_node(reviewer)\n"
   ]
  },
  {
   "cell_type": "code",
   "execution_count": 29,
   "id": "78de8bdb",
   "metadata": {},
   "outputs": [],
   "source": [
    "# Fan out from Writer to Editors\n",
    "builder.add_edge(writer, editor1)\n",
    "builder.add_edge(writer, editor2)\n",
    "\n",
    "# Fan in Both Editors into Reviewer\n",
    "builder.add_edge(editor1, reviewer)\n",
    "builder.add_edge(editor2, reviewer)\n",
    "\n",
    "graph = builder.build()"
   ]
  },
  {
   "cell_type": "code",
   "execution_count": 10,
   "id": "069cade8",
   "metadata": {},
   "outputs": [
    {
     "data": {
      "text/plain": [
       "DiGraph(nodes={'Writer': DiGraphNode(name='Writer', edges=[DiGraphEdge(target='Editor1', condition=None), DiGraphEdge(target='Editor2', condition=None)], activation='all'), 'Editor1': DiGraphNode(name='Editor1', edges=[DiGraphEdge(target='Reviewer', condition=None)], activation='all'), 'Editor2': DiGraphNode(name='Editor2', edges=[DiGraphEdge(target='Reviewer', condition=None)], activation='all'), 'Reviewer': DiGraphNode(name='Reviewer', edges=[], activation='all')}, default_start_node=None)"
      ]
     },
     "execution_count": 10,
     "metadata": {},
     "output_type": "execute_result"
    }
   ],
   "source": [
    "graph"
   ]
  },
  {
   "cell_type": "code",
   "execution_count": 13,
   "id": "f441e4e0",
   "metadata": {},
   "outputs": [
    {
     "data": {
      "text/plain": [
       "[<autogen_agentchat.agents._assistant_agent.AssistantAgent at 0x10cd5cc20>,\n",
       " <autogen_agentchat.agents._assistant_agent.AssistantAgent at 0x104379bd0>,\n",
       " <autogen_agentchat.agents._assistant_agent.AssistantAgent at 0x10ca0bed0>,\n",
       " <autogen_agentchat.agents._assistant_agent.AssistantAgent at 0x10cd2f6f0>]"
      ]
     },
     "execution_count": 13,
     "metadata": {},
     "output_type": "execute_result"
    }
   ],
   "source": [
    "builder.get_participants()"
   ]
  },
  {
   "cell_type": "code",
   "execution_count": 16,
   "id": "e7161cea",
   "metadata": {},
   "outputs": [
    {
     "data": {
      "text/plain": [
       "('0x10cd5cc20', '0x104379bd0', '0x10cd2f6f0')"
      ]
     },
     "execution_count": 16,
     "metadata": {},
     "output_type": "execute_result"
    }
   ],
   "source": [
    "hex(id(writer)),hex(id(editor1)),hex(id(reviewer))"
   ]
  },
  {
   "cell_type": "code",
   "execution_count": 30,
   "id": "47f485b4",
   "metadata": {},
   "outputs": [],
   "source": [
    "flow = GraphFlow(participants=builder.get_participants(),graph=graph)\n",
    "\n"
   ]
  },
  {
   "cell_type": "code",
   "execution_count": 31,
   "id": "e1822f66",
   "metadata": {},
   "outputs": [
    {
     "name": "stdout",
     "output_type": "stream",
     "text": [
      "---------- TextMessage (user) ----------\n",
      "Write a short paragraph about Climate Change.\n",
      "---------- TextMessage (Writer) ----------\n",
      "climmate changes making everything diferent, sudden storms and no snow in winter. Animals confused, trees loosing leafs in summer. People trying to undo or slow damages, planting trees and using less plastic. Hope lies in small actions everyday, maybe we can make the earth smile again. Time's running swiftly.\n",
      "---------- TextMessage (Editor1) ----------\n",
      "1. \"climmate\" should be \"climate.\"\n",
      "2. \"diferent\" should be \"different.\"\n",
      "3. \"trees loosing leafs\" should be \"trees losing leaves.\"\n",
      "4. \"leafs\" should be \"leaves.\"\n",
      "5. The sentence \"climmate changes making everything diferent, sudden storms and no snow in winter.\" is incomplete. It should be revised for clarity.\n",
      "6. Add a subject to the sentence: \"Climmate changes making everything diferent, sudden storms and no snow in winter\" could be corrected to \"Climate change is making everything different, causing sudden storms and no snow in winter.\"\n",
      "7. All sentences should start with a capital letter.\n",
      "8. Insert appropriate conjunctions for better sentence flow, such as \"with\" and \"and.\"\n",
      "9. \"trees loosing leafs in summer\" should be clarified to include articles, like \"the\" before \"trees.\"\n",
      "10. \"Hope lies in small actions everyday\" should be \"Hope lies in small actions every day,\" as \"every day\" is the correct form in this context.\n",
      "11. Add punctuation for better sentence structure and clarity, such as commas or semicolons.\n",
      "12. The whole paragraph lacks a unified structure and could benefit from a clearer introduction, body, and conclusion.\n",
      "---------- TextMessage (Editor2) ----------\n",
      "Climate change is making everything different, causing sudden storms and no snow in the winter. Animals are confused, and trees are losing leaves in the summer. People are trying to undo or slow the damage by planting trees and using less plastic. Hope lies in small actions every day; maybe we can make the Earth smile again. Time is running swiftly.\n",
      "---------- TextMessage (Reviewer) ----------\n",
      "Climate change is altering the world significantly, leading to sudden storms and a lack of snow in the winter. Animals are confused, and trees are losing their leaves during the summer. People are actively trying to reverse or slow down the damage by planting trees and reducing plastic use. Hope lies in small, everyday actions; perhaps we can make the Earth thrive again. Time is running swiftly.\n",
      "---------- StopMessage (DiGraphStopAgent) ----------\n",
      "Digraph execution is complete\n"
     ]
    },
    {
     "data": {
      "text/plain": [
       "TaskResult(messages=[TextMessage(source='user', models_usage=None, metadata={}, content='Write a short paragraph about Climate Change.', type='TextMessage'), TextMessage(source='Writer', models_usage=RequestUsage(prompt_tokens=51, completion_tokens=64), metadata={}, content=\"climmate changes making everything diferent, sudden storms and no snow in winter. Animals confused, trees loosing leafs in summer. People trying to undo or slow damages, planting trees and using less plastic. Hope lies in small actions everyday, maybe we can make the earth smile again. Time's running swiftly.\", type='TextMessage'), TextMessage(source='Editor1', models_usage=RequestUsage(prompt_tokens=98, completion_tokens=265), metadata={}, content='1. \"climmate\" should be \"climate.\"\\n2. \"diferent\" should be \"different.\"\\n3. \"trees loosing leafs\" should be \"trees losing leaves.\"\\n4. \"leafs\" should be \"leaves.\"\\n5. The sentence \"climmate changes making everything diferent, sudden storms and no snow in winter.\" is incomplete. It should be revised for clarity.\\n6. Add a subject to the sentence: \"Climmate changes making everything diferent, sudden storms and no snow in winter\" could be corrected to \"Climate change is making everything different, causing sudden storms and no snow in winter.\"\\n7. All sentences should start with a capital letter.\\n8. Insert appropriate conjunctions for better sentence flow, such as \"with\" and \"and.\"\\n9. \"trees loosing leafs in summer\" should be clarified to include articles, like \"the\" before \"trees.\"\\n10. \"Hope lies in small actions everyday\" should be \"Hope lies in small actions every day,\" as \"every day\" is the correct form in this context.\\n11. Add punctuation for better sentence structure and clarity, such as commas or semicolons.\\n12. The whole paragraph lacks a unified structure and could benefit from a clearer introduction, body, and conclusion.', type='TextMessage'), TextMessage(source='Editor2', models_usage=RequestUsage(prompt_tokens=370, completion_tokens=69), metadata={}, content='Climate change is making everything different, causing sudden storms and no snow in the winter. Animals are confused, and trees are losing leaves in the summer. People are trying to undo or slow the damage by planting trees and using less plastic. Hope lies in small actions every day; maybe we can make the Earth smile again. Time is running swiftly.', type='TextMessage'), TextMessage(source='Reviewer', models_usage=RequestUsage(prompt_tokens=451, completion_tokens=76), metadata={}, content='Climate change is altering the world significantly, leading to sudden storms and a lack of snow in the winter. Animals are confused, and trees are losing their leaves during the summer. People are actively trying to reverse or slow down the damage by planting trees and reducing plastic use. Hope lies in small, everyday actions; perhaps we can make the Earth thrive again. Time is running swiftly.', type='TextMessage'), StopMessage(source='DiGraphStopAgent', models_usage=None, metadata={}, content='Digraph execution is complete', type='StopMessage')], stop_reason='Stop message received')"
      ]
     },
     "execution_count": 31,
     "metadata": {},
     "output_type": "execute_result"
    }
   ],
   "source": [
    "await Console(flow.run_stream(task='Write a short paragraph about Climate Change.'))"
   ]
  },
  {
   "cell_type": "code",
   "execution_count": null,
   "id": "d8b97c73",
   "metadata": {},
   "outputs": [],
   "source": []
  }
 ],
 "metadata": {
  "kernelspec": {
   "display_name": ".venv",
   "language": "python",
   "name": "python3"
  },
  "language_info": {
   "codemirror_mode": {
    "name": "ipython",
    "version": 3
   },
   "file_extension": ".py",
   "mimetype": "text/x-python",
   "name": "python",
   "nbconvert_exporter": "python",
   "pygments_lexer": "ipython3",
   "version": "3.13.2"
  }
 },
 "nbformat": 4,
 "nbformat_minor": 5
}

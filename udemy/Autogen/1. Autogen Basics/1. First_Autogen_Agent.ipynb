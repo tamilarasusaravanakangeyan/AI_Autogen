{
 "cells": [
  {
   "cell_type": "markdown",
   "metadata": {},
   "source": [
    "# Our First Autogen Agent"
   ]
  },
  {
   "cell_type": "code",
   "execution_count": 3,
   "metadata": {},
   "outputs": [
    {
     "name": "stdout",
     "output_type": "stream",
     "text": [
      "Hello World\n"
     ]
    }
   ],
   "source": [
    "print(\"Hello World\")"
   ]
  },
  {
   "cell_type": "markdown",
   "metadata": {},
   "source": [
    "# My First AutoGen Agent (v0.4)\n",
    "In this notebook, we’ll build a simple agent using AutoGen v0.4 and OpenAI’s GPT-4. We’ll ask it a fun question and see how it responds. This is the latest version, so you’re learning the cutting-edge way to create AI agents!"
   ]
  },
  {
   "cell_type": "code",
   "execution_count": 6,
   "metadata": {},
   "outputs": [],
   "source": [
    "from autogen_agentchat.agents import AssistantAgent\n",
    "from autogen_ext.models.openai import OpenAIChatCompletionClient\n",
    "from dotenv import load_dotenv\n",
    "import os\n",
    "\n",
    "load_dotenv()\n",
    "\n",
    "api_key = os.getenv('OPENAI_API_KEY')"
   ]
  },
  {
   "cell_type": "markdown",
   "metadata": {},
   "source": [
    "## Connecting to the Model\n",
    "We use `OpenAIChatCompletionClient` to link our agent to GPT-4. In v0.4, this replaces the older `llm_config` approach."
   ]
  },
  {
   "cell_type": "code",
   "execution_count": 7,
   "metadata": {},
   "outputs": [],
   "source": [
    "model_client = OpenAIChatCompletionClient(model='gpt-4',api_key=api_key)"
   ]
  },
  {
   "cell_type": "markdown",
   "metadata": {},
   "source": [
    "## Building the Agent\n",
    "The `AssistantAgent` is a conversational AI that can respond to tasks. We’ll give it a name and connect it to our model."
   ]
  },
  {
   "cell_type": "code",
   "execution_count": 10,
   "metadata": {},
   "outputs": [],
   "source": [
    "assistant = AssistantAgent(name = 'my_assistant',model_client=model_client)"
   ]
  },
  {
   "cell_type": "markdown",
   "metadata": {},
   "source": [
    "## Asking the Agent a Question\n",
    "We’ll use the `run` method—a simple way in v0.4 to get a response. Watch this!"
   ]
  },
  {
   "cell_type": "code",
   "execution_count": null,
   "metadata": {},
   "outputs": [
    {
     "name": "stdout",
     "output_type": "stream",
     "text": [
      "TaskResult(messages=[TextMessage(source='user', models_usage=None, metadata={}, content='Tell me a fun fact about space.', type='TextMessage'), TextMessage(source='my_assistant', models_usage=RequestUsage(prompt_tokens=44, completion_tokens=96), metadata={}, content='Did you know that a day on Venus is longer than a year on Venus? This is because Venus has an extremely slow rotation on its axis. It takes about 243 Earth days for Venus to rotate once, but it takes only about 225 Earth days for it to orbit the Sun. \\n\\nSo, strangely, a day on Venus (the time it takes to complete one full rotation) is longer than a Venusian year (the time it takes to orbit the Sun).', type='TextMessage')], stop_reason=None)\n"
     ]
    }
   ],
   "source": [
    "result = await assistant.run(task = \"Tell me a fun fact about space.\")\n",
    "\n",
    "print(result)"
   ]
  },
  {
   "cell_type": "code",
   "execution_count": 13,
   "metadata": {},
   "outputs": [
    {
     "name": "stdout",
     "output_type": "stream",
     "text": [
      "Did you know that a day on Venus is longer than a year on Venus? This is because Venus has an extremely slow rotation on its axis. It takes about 243 Earth days for Venus to rotate once, but it takes only about 225 Earth days for it to orbit the Sun. \n",
      "\n",
      "So, strangely, a day on Venus (the time it takes to complete one full rotation) is longer than a Venusian year (the time it takes to orbit the Sun).\n"
     ]
    }
   ],
   "source": [
    "print(result.messages[-1].content)"
   ]
  },
  {
   "cell_type": "code",
   "execution_count": 14,
   "metadata": {},
   "outputs": [
    {
     "name": "stdout",
     "output_type": "stream",
     "text": [
      "5 + 25 equals 30.\n"
     ]
    }
   ],
   "source": [
    "result = await assistant.run(task = \"Tell me what is 5+25\")\n",
    "print(result.messages[-1].content)"
   ]
  }
 ],
 "metadata": {
  "kernelspec": {
   "display_name": "Python 3",
   "language": "python",
   "name": "python3"
  },
  "language_info": {
   "codemirror_mode": {
    "name": "ipython",
    "version": 3
   },
   "file_extension": ".py",
   "mimetype": "text/x-python",
   "name": "python",
   "nbconvert_exporter": "python",
   "pygments_lexer": "ipython3",
   "version": "3.12.9"
  }
 },
 "nbformat": 4,
 "nbformat_minor": 2
}

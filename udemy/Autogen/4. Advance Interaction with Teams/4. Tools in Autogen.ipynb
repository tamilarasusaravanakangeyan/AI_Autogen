{
 "cells": [
  {
   "cell_type": "markdown",
   "id": "39619ab6",
   "metadata": {},
   "source": [
    "# Tools in Autogen"
   ]
  },
  {
   "cell_type": "markdown",
   "id": "66c7142e",
   "metadata": {},
   "source": [
    "Tools are functions that let agents do specific tasks.\n",
    "\n",
    "- Calculator\n",
    "- Mobile (Apps)"
   ]
  },
  {
   "cell_type": "code",
   "execution_count": null,
   "id": "e26e7bef",
   "metadata": {},
   "outputs": [],
   "source": [
    "from autogen_agentchat.tools import FunctionTool\n",
    "from autogen_agentchat.agents import AssistantAgent"
   ]
  },
  {
   "cell_type": "code",
   "execution_count": null,
   "id": "df804ba5",
   "metadata": {},
   "outputs": [],
   "source": [
    "def celsius_to_fahrenheit(celsius:float) -> float:\n",
    "    '''\n",
    "    Convert Celsius temp to Fahrenheit temp.\n",
    "\n",
    "    input:\n",
    "    celsius : float\n",
    "\n",
    "    output\n",
    "    temperature in fahrenhiet : float\n",
    "    '''\n",
    "    return (celsius * 9/5) + 32\n",
    "\n",
    "agent = AssistantAgent(\n",
    "    name='temp_agent',\n",
    "    model_client=model_client,\n",
    "    tools=[FunctionTool(celsius_to_fahrenheit)]\n",
    ")"
   ]
  },
  {
   "cell_type": "markdown",
   "id": "ef10125a",
   "metadata": {},
   "source": [
    "1. Custom Function Tools - Your own apps\n",
    "2. Inbuilt Tools ( Default Apps of our Phone) - SMS\n",
    "3. Third Party Tools - Whatsapp , Youtube "
   ]
  }
 ],
 "metadata": {
  "kernelspec": {
   "display_name": "autogen-env",
   "language": "python",
   "name": "python3"
  },
  "language_info": {
   "name": "python",
   "version": "3.13.2"
  }
 },
 "nbformat": 4,
 "nbformat_minor": 5
}
